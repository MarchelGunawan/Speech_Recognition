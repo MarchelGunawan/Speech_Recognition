{
 "cells": [
  {
   "cell_type": "code",
   "execution_count": 87,
   "metadata": {},
   "outputs": [],
   "source": [
    "from os import listdir\n",
    "from os.path import isdir, join\n",
    "import librosa\n",
    "import numpy as np\n",
    "import matplotlib.pyplot as plt\n",
    "import python_speech_features\n",
    "import pydub\n",
    "from pathlib import Path\n",
    "import tensorflow as tf\n",
    "from tensorflow import keras"
   ]
  },
  {
   "cell_type": "code",
   "execution_count": 88,
   "metadata": {},
   "outputs": [
    {
     "name": "stdout",
     "output_type": "stream",
     "text": [
      "(20, 862)\n"
     ]
    }
   ],
   "source": [
    "song = Path('data/mini_speech_commands/Jalan Kanan/Kanan.wav')\n",
    "a = pydub.AudioSegment.from_wav(song)\n",
    "x = np.array(a.get_array_of_samples(), np.float32)\n",
    "x = librosa.feature.mfcc(x)\n",
    "print(x.shape)"
   ]
  },
  {
   "cell_type": "code",
   "execution_count": 89,
   "metadata": {},
   "outputs": [],
   "source": [
    "X = []\n",
    "Y = []\n",
    "names = ['Bom Kanan', 'Jalan Kanan', 'Tembak Atas']"
   ]
  },
  {
   "cell_type": "code",
   "execution_count": 90,
   "metadata": {},
   "outputs": [],
   "source": [
    "def file_rec(file_path):\n",
    "    a = pydub.AudioSegment.from_wav(file_path)\n",
    "    x = np.array(a.get_array_of_samples(), np.float32)\n",
    "    return librosa.feature.mfcc(x)"
   ]
  },
  {
   "cell_type": "code",
   "execution_count": 91,
   "metadata": {},
   "outputs": [
    {
     "name": "stdout",
     "output_type": "stream",
     "text": [
      "(20, 862)\n",
      "(20, 862)\n",
      "(20, 862)\n",
      "(20, 862)\n",
      "(20, 862)\n"
     ]
    }
   ],
   "source": [
    "for i in range(5):\n",
    "    x = file_rec('data/mini_speech_commands/Bom Kanan/Bom Kanan.wav')\n",
    "    print(x.shape)\n",
    "    X.append(x)\n",
    "    Y.append(names.index(\"Bom Kanan\"))"
   ]
  },
  {
   "cell_type": "code",
   "execution_count": 92,
   "metadata": {},
   "outputs": [
    {
     "name": "stdout",
     "output_type": "stream",
     "text": [
      "(20, 862)\n",
      "(20, 862)\n",
      "(20, 862)\n",
      "(20, 862)\n",
      "(20, 862)\n"
     ]
    }
   ],
   "source": [
    "for i in range(5):\n",
    "    x = file_rec('data/mini_speech_commands/Jalan Kanan/Kanan.wav')\n",
    "    print(x.shape)\n",
    "    X.append(x)\n",
    "    Y.append(names.index(\"Jalan Kanan\"))"
   ]
  },
  {
   "cell_type": "code",
   "execution_count": 93,
   "metadata": {},
   "outputs": [
    {
     "name": "stdout",
     "output_type": "stream",
     "text": [
      "(20, 862)\n",
      "(20, 862)\n",
      "(20, 862)\n",
      "(20, 862)\n",
      "(20, 862)\n"
     ]
    }
   ],
   "source": [
    "for i in range(5):\n",
    "    x = file_rec('data/mini_speech_commands/Tembak Atas/Tembak Atas.wav')\n",
    "    print(x.shape)\n",
    "    X.append(x)\n",
    "    Y.append(names.index(\"Tembak Atas\"))"
   ]
  },
  {
   "cell_type": "code",
   "execution_count": 94,
   "metadata": {},
   "outputs": [],
   "source": [
    "X = np.array(X)\n",
    "Y = np.array(Y)"
   ]
  },
  {
   "cell_type": "code",
   "execution_count": 103,
   "metadata": {},
   "outputs": [
    {
     "data": {
      "text/plain": [
       "array([0, 0, 0, 0, 0, 1, 1, 1, 1, 1, 2, 2, 2, 2, 2])"
      ]
     },
     "execution_count": 103,
     "metadata": {},
     "output_type": "execute_result"
    }
   ],
   "source": [
    "Y"
   ]
  },
  {
   "cell_type": "code",
   "execution_count": 123,
   "metadata": {},
   "outputs": [
    {
     "name": "stdout",
     "output_type": "stream",
     "text": [
      "Model: \"sequential_11\"\n",
      "_________________________________________________________________\n",
      " Layer (type)                Output Shape              Param #   \n",
      "=================================================================\n",
      " conv2d_22 (Conv2D)          (None, 16, 858, 64)       1664      \n",
      "                                                                 \n",
      " dropout_33 (Dropout)        (None, 16, 858, 64)       0         \n",
      "                                                                 \n",
      " max_pooling2d_22 (MaxPoolin  (None, 8, 429, 64)       0         \n",
      " g2D)                                                            \n",
      "                                                                 \n",
      " conv2d_23 (Conv2D)          (None, 4, 425, 64)        102464    \n",
      "                                                                 \n",
      " dropout_34 (Dropout)        (None, 4, 425, 64)        0         \n",
      "                                                                 \n",
      " max_pooling2d_23 (MaxPoolin  (None, 2, 212, 64)       0         \n",
      " g2D)                                                            \n",
      "                                                                 \n",
      " flatten_11 (Flatten)        (None, 27136)             0         \n",
      "                                                                 \n",
      " dense_22 (Dense)            (None, 128)               3473536   \n",
      "                                                                 \n",
      " dropout_35 (Dropout)        (None, 128)               0         \n",
      "                                                                 \n",
      " dense_23 (Dense)            (None, 3)                 387       \n",
      "                                                                 \n",
      "=================================================================\n",
      "Total params: 3,578,051\n",
      "Trainable params: 3,578,051\n",
      "Non-trainable params: 0\n",
      "_________________________________________________________________\n"
     ]
    }
   ],
   "source": [
    "model = keras.Sequential()\n",
    "model.add(keras.layers.Conv2D(64, 5, input_shape=(20, 862, 1), activation='relu'))\n",
    "model.add(keras.layers.Dropout(0.5))\n",
    "model.add(keras.layers.MaxPool2D())\n",
    "model.add(keras.layers.Conv2D(64, 5, activation='relu'))\n",
    "model.add(keras.layers.Dropout(0.5))\n",
    "model.add(keras.layers.MaxPool2D())\n",
    "model.add(keras.layers.Flatten())\n",
    "model.add(keras.layers.Dense(128, activation='relu'))\n",
    "model.add(keras.layers.Dropout(0.5))\n",
    "model.add(keras.layers.Dense(3, activation='softmax'))\n",
    "model.compile(optimizer='adam', loss='sparse_categorical_crossentropy', metrics=['accuracy'])\n",
    "model.summary()"
   ]
  },
  {
   "cell_type": "code",
   "execution_count": 124,
   "metadata": {},
   "outputs": [
    {
     "name": "stdout",
     "output_type": "stream",
     "text": [
      "Epoch 1/20\n",
      "1/1 [==============================] - 1s 718ms/step - loss: 33.6238 - accuracy: 0.2000\n",
      "Epoch 2/20\n",
      "1/1 [==============================] - 0s 299ms/step - loss: 269.0518 - accuracy: 0.3333\n",
      "Epoch 3/20\n",
      "1/1 [==============================] - 0s 344ms/step - loss: 255.3282 - accuracy: 0.3333\n",
      "Epoch 4/20\n",
      "1/1 [==============================] - 0s 374ms/step - loss: 52.4667 - accuracy: 0.4667\n",
      "Epoch 5/20\n",
      "1/1 [==============================] - 0s 306ms/step - loss: 25.3840 - accuracy: 0.5333\n",
      "Epoch 6/20\n",
      "1/1 [==============================] - 0s 304ms/step - loss: 15.8685 - accuracy: 0.6000\n",
      "Epoch 7/20\n",
      "1/1 [==============================] - 0s 283ms/step - loss: 1.9550 - accuracy: 0.8667\n",
      "Epoch 8/20\n",
      "1/1 [==============================] - 0s 316ms/step - loss: 1.0453e-04 - accuracy: 1.0000\n",
      "Epoch 9/20\n",
      "1/1 [==============================] - 0s 344ms/step - loss: 6.8367e-05 - accuracy: 1.0000\n",
      "Epoch 10/20\n",
      "1/1 [==============================] - 0s 331ms/step - loss: 1.5100e-07 - accuracy: 1.0000\n",
      "Epoch 11/20\n",
      "1/1 [==============================] - 0s 283ms/step - loss: 0.4965 - accuracy: 0.9333\n",
      "Epoch 12/20\n",
      "1/1 [==============================] - 0s 268ms/step - loss: 2.1018e-05 - accuracy: 1.0000\n",
      "Epoch 13/20\n",
      "1/1 [==============================] - 0s 405ms/step - loss: 1.0331e-07 - accuracy: 1.0000\n",
      "Epoch 14/20\n",
      "1/1 [==============================] - 0s 312ms/step - loss: 0.0000e+00 - accuracy: 1.0000\n",
      "Epoch 15/20\n",
      "1/1 [==============================] - 0s 312ms/step - loss: 0.0000e+00 - accuracy: 1.0000\n",
      "Epoch 16/20\n",
      "1/1 [==============================] - 0s 288ms/step - loss: 0.0000e+00 - accuracy: 1.0000\n",
      "Epoch 17/20\n",
      "1/1 [==============================] - 0s 288ms/step - loss: 0.0000e+00 - accuracy: 1.0000\n",
      "Epoch 18/20\n",
      "1/1 [==============================] - 0s 315ms/step - loss: 0.0000e+00 - accuracy: 1.0000\n",
      "Epoch 19/20\n",
      "1/1 [==============================] - 0s 258ms/step - loss: 0.0000e+00 - accuracy: 1.0000\n",
      "Epoch 20/20\n",
      "1/1 [==============================] - 0s 268ms/step - loss: 0.0000e+00 - accuracy: 1.0000\n"
     ]
    },
    {
     "data": {
      "text/plain": [
       "<keras.callbacks.History at 0x16cc5441940>"
      ]
     },
     "execution_count": 124,
     "metadata": {},
     "output_type": "execute_result"
    }
   ],
   "source": [
    "model.fit(X, Y, epochs=20)"
   ]
  },
  {
   "cell_type": "code",
   "execution_count": 125,
   "metadata": {},
   "outputs": [
    {
     "data": {
      "text/plain": [
       "'Bom Kanan'"
      ]
     },
     "execution_count": 125,
     "metadata": {},
     "output_type": "execute_result"
    }
   ],
   "source": [
    "x = file_rec('data/mini_speech_commands/Bom Kanan/Bom Kanan.wav')\n",
    "names[model.predict(x[None,:,:,None]).argmax()]"
   ]
  },
  {
   "cell_type": "code",
   "execution_count": 131,
   "metadata": {},
   "outputs": [
    {
     "data": {
      "text/plain": [
       "'Bom Kanan'"
      ]
     },
     "execution_count": 131,
     "metadata": {},
     "output_type": "execute_result"
    }
   ],
   "source": [
    "x = file_rec('data/mini_speech_commands/Bom Kanan/Hendri_Bom_Kanan.wav')\n",
    "names[model.predict(x[None,:,:,None]).argmax()]"
   ]
  },
  {
   "cell_type": "code",
   "execution_count": 147,
   "metadata": {},
   "outputs": [
    {
     "data": {
      "text/plain": [
       "'Tembak Atas'"
      ]
     },
     "execution_count": 147,
     "metadata": {},
     "output_type": "execute_result"
    }
   ],
   "source": [
    "x = file_rec('data/mini_speech_commands/Bom Kanan/Bom Kanan2.wav')\n",
    "names[model.predict(x[None,:,:,None]).argmax()]"
   ]
  },
  {
   "cell_type": "code",
   "execution_count": 132,
   "metadata": {},
   "outputs": [
    {
     "data": {
      "text/plain": [
       "'Tembak Atas'"
      ]
     },
     "execution_count": 132,
     "metadata": {},
     "output_type": "execute_result"
    }
   ],
   "source": [
    "x = file_rec('data/mini_speech_commands/Bom Kanan/Ran_bomkanan.wav')\n",
    "names[model.predict(x[None,:,:,None]).argmax()]"
   ]
  },
  {
   "cell_type": "code",
   "execution_count": 133,
   "metadata": {},
   "outputs": [
    {
     "data": {
      "text/plain": [
       "'Bom Kanan'"
      ]
     },
     "execution_count": 133,
     "metadata": {},
     "output_type": "execute_result"
    }
   ],
   "source": [
    "x = file_rec('data/mini_speech_commands/Bom Kanan/Bom Kanan.wav')\n",
    "names[model.predict(x[None,:,:,None]).argmax()]"
   ]
  },
  {
   "cell_type": "code",
   "execution_count": 134,
   "metadata": {},
   "outputs": [
    {
     "data": {
      "text/plain": [
       "'Jalan Kanan'"
      ]
     },
     "execution_count": 134,
     "metadata": {},
     "output_type": "execute_result"
    }
   ],
   "source": [
    "x = file_rec('data/mini_speech_commands/Jalan Kanan/Kanan.wav')\n",
    "names[model.predict(x[None,:,:,None]).argmax()]"
   ]
  },
  {
   "cell_type": "code",
   "execution_count": 143,
   "metadata": {},
   "outputs": [
    {
     "data": {
      "text/plain": [
       "array([[2.4818746e-18, 1.0301307e-23, 1.0000000e+00]], dtype=float32)"
      ]
     },
     "execution_count": 143,
     "metadata": {},
     "output_type": "execute_result"
    }
   ],
   "source": [
    "x = file_rec('data/mini_speech_commands/Tembak Atas/Ran_tembakatas.wav')\n",
    "model.predict(x[None,:,:,None])"
   ]
  },
  {
   "cell_type": "code",
   "execution_count": 142,
   "metadata": {},
   "outputs": [
    {
     "data": {
      "text/plain": [
       "array([[0., 0., 1.]], dtype=float32)"
      ]
     },
     "execution_count": 142,
     "metadata": {},
     "output_type": "execute_result"
    }
   ],
   "source": [
    "x = file_rec('data/mini_speech_commands/Tembak Atas/Hendri_Tembak_Atas.wav')\n",
    "model.predict(x[None,:,:,None])"
   ]
  },
  {
   "cell_type": "code",
   "execution_count": 146,
   "metadata": {},
   "outputs": [
    {
     "data": {
      "text/plain": [
       "array([[9.8886603e-01, 4.7681584e-07, 1.1133478e-02]], dtype=float32)"
      ]
     },
     "execution_count": 146,
     "metadata": {},
     "output_type": "execute_result"
    }
   ],
   "source": [
    "x = file_rec('data/mini_speech_commands/Tembak Atas/Tembak Atas2.wav')\n",
    "model.predict(x[None,:,:,None])"
   ]
  }
 ],
 "metadata": {
  "kernelspec": {
   "display_name": "Python 3",
   "language": "python",
   "name": "python3"
  },
  "language_info": {
   "codemirror_mode": {
    "name": "ipython",
    "version": 3
   },
   "file_extension": ".py",
   "mimetype": "text/x-python",
   "name": "python",
   "nbconvert_exporter": "python",
   "pygments_lexer": "ipython3",
   "version": "3.8.10"
  }
 },
 "nbformat": 4,
 "nbformat_minor": 2
}
