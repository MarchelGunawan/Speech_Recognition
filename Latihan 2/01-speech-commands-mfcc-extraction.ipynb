{
 "cells": [
  {
   "cell_type": "code",
   "execution_count": 371,
   "metadata": {},
   "outputs": [],
   "source": [
    "from os import listdir\n",
    "from os.path import isdir, join\n",
    "import librosa\n",
    "import numpy as np\n",
    "import matplotlib.pyplot as plt\n",
    "import python_speech_features\n",
    "import pydub\n",
    "from pathlib import Path\n",
    "import tensorflow as tf\n",
    "from tensorflow import keras\n",
    "import pyaudio\n",
    "import wave\n",
    "import pyautogui\n",
    "import time"
   ]
  },
  {
   "cell_type": "code",
   "execution_count": 321,
   "metadata": {},
   "outputs": [
    {
     "name": "stdout",
     "output_type": "stream",
     "text": [
      "(20, 861)\n"
     ]
    }
   ],
   "source": [
    "song = Path('Rec/Jalan Kanan/Marchel_Kanan.wav')\n",
    "a = pydub.AudioSegment.from_wav(song)\n",
    "x = np.array(a.get_array_of_samples(), np.float32)\n",
    "x = librosa.feature.mfcc(x)\n",
    "print(x.shape)"
   ]
  },
  {
   "cell_type": "code",
   "execution_count": 322,
   "metadata": {},
   "outputs": [],
   "source": [
    "X = []\n",
    "Y = []\n",
    "names = ['Bom Kanan', 'Jalan Kanan', 'Tembak Atas', 'Tembak Kanan', 'Bom Kiri', 'Hidup'\n",
    ", 'Jalan Kiri', 'Lompat', 'Melompat Kanan', 'Melompat Kiri', 'Nunduk', 'Tembak Kiri', 'Tembak Nunduk' ]"
   ]
  },
  {
   "cell_type": "code",
   "execution_count": 323,
   "metadata": {},
   "outputs": [],
   "source": [
    "def file_rec(file_path):\n",
    "    a = pydub.AudioSegment.from_wav(file_path)\n",
    "    x = np.array(a.get_array_of_samples(), np.float32)\n",
    "    return librosa.feature.mfcc(x)"
   ]
  },
  {
   "cell_type": "code",
   "execution_count": 324,
   "metadata": {},
   "outputs": [],
   "source": [
    "for i in range(25):\n",
    "    x = file_rec('Rec/Bom Kiri/Marchel_BomKiri.wav')\n",
    "    X.append(x)\n",
    "    Y.append(names.index(\"Bom Kiri\"))"
   ]
  },
  {
   "cell_type": "code",
   "execution_count": 325,
   "metadata": {},
   "outputs": [],
   "source": [
    "for i in range(25):\n",
    "    x = file_rec('Rec/Bom Kanan/Marchel_BomKanan.wav')\n",
    "    X.append(x)\n",
    "    Y.append(names.index(\"Bom Kanan\"))"
   ]
  },
  {
   "cell_type": "code",
   "execution_count": 326,
   "metadata": {},
   "outputs": [],
   "source": [
    "for i in range(25):\n",
    "    x = file_rec('Rec/Jalan Kanan/Marchel_Kanan.wav')\n",
    "    X.append(x)\n",
    "    Y.append(names.index(\"Jalan Kanan\"))"
   ]
  },
  {
   "cell_type": "code",
   "execution_count": 327,
   "metadata": {},
   "outputs": [],
   "source": [
    "for i in range(25):\n",
    "    x = file_rec('Rec/Hidup/Marchel_Hidup.wav')\n",
    "    X.append(x)\n",
    "    Y.append(names.index(\"Hidup\"))"
   ]
  },
  {
   "cell_type": "code",
   "execution_count": 328,
   "metadata": {},
   "outputs": [],
   "source": [
    "for i in range(25):\n",
    "    x = file_rec('Rec/Jalan Kiri/Marchel_Kiri.wav')\n",
    "    X.append(x)\n",
    "    Y.append(names.index(\"Jalan Kiri\"))"
   ]
  },
  {
   "cell_type": "code",
   "execution_count": 329,
   "metadata": {},
   "outputs": [],
   "source": [
    "for i in range(25):\n",
    "    x = file_rec('Rec/Lompat/Marchel_Lompat.wav')\n",
    "    X.append(x)\n",
    "    Y.append(names.index(\"Lompat\"))"
   ]
  },
  {
   "cell_type": "code",
   "execution_count": 330,
   "metadata": {},
   "outputs": [],
   "source": [
    "for i in range(25):\n",
    "    x = file_rec('Rec/Melompat Kanan/Marchel_MelompatKanan.wav')\n",
    "    X.append(x)\n",
    "    Y.append(names.index(\"Melompat Kanan\"))"
   ]
  },
  {
   "cell_type": "code",
   "execution_count": 331,
   "metadata": {},
   "outputs": [],
   "source": [
    "for i in range(25):\n",
    "    x = file_rec('Rec/Melompat Kiri/Marchel_MelompatKiri.wav')\n",
    "    X.append(x)\n",
    "    Y.append(names.index(\"Melompat Kiri\"))"
   ]
  },
  {
   "cell_type": "code",
   "execution_count": 332,
   "metadata": {},
   "outputs": [],
   "source": [
    "for i in range(25):\n",
    "    x = file_rec('Rec/Nunduk/Marchel_Nunduk.wav')\n",
    "    X.append(x)\n",
    "    Y.append(names.index(\"Nunduk\"))"
   ]
  },
  {
   "cell_type": "code",
   "execution_count": 333,
   "metadata": {},
   "outputs": [],
   "source": [
    "for i in range(25):\n",
    "    x = file_rec('Rec/Tembak Kiri/Marchel_TembakKiri.wav')\n",
    "    X.append(x)\n",
    "    Y.append(names.index(\"Tembak Kiri\"))"
   ]
  },
  {
   "cell_type": "code",
   "execution_count": 334,
   "metadata": {},
   "outputs": [],
   "source": [
    "for i in range(25):\n",
    "    x = file_rec('Rec/Tembak Nunduk/Marchel_TembakNunduk.wav')\n",
    "    X.append(x)\n",
    "    Y.append(names.index(\"Tembak Nunduk\"))"
   ]
  },
  {
   "cell_type": "code",
   "execution_count": 335,
   "metadata": {},
   "outputs": [],
   "source": [
    "for i in range(25):\n",
    "    x = file_rec('Rec/Tembak Atas/Marchel_TembakAtas.wav')\n",
    "    X.append(x)\n",
    "    Y.append(names.index(\"Tembak Atas\"))"
   ]
  },
  {
   "cell_type": "code",
   "execution_count": 336,
   "metadata": {},
   "outputs": [],
   "source": [
    "for i in range(25):\n",
    "    x = file_rec('Rec/Tembak Kanan/Marchel_TembakKanan.wav')\n",
    "    X.append(x)\n",
    "    Y.append(names.index(\"Tembak Kanan\"))"
   ]
  },
  {
   "cell_type": "code",
   "execution_count": 337,
   "metadata": {},
   "outputs": [],
   "source": [
    "X = np.array(X)\n",
    "Y = np.array(Y)"
   ]
  },
  {
   "cell_type": "code",
   "execution_count": 338,
   "metadata": {},
   "outputs": [
    {
     "data": {
      "text/plain": [
       "array([ 4,  4,  4,  4,  4,  4,  4,  4,  4,  4,  4,  4,  4,  4,  4,  4,  4,\n",
       "        4,  4,  4,  4,  4,  4,  4,  4,  0,  0,  0,  0,  0,  0,  0,  0,  0,\n",
       "        0,  0,  0,  0,  0,  0,  0,  0,  0,  0,  0,  0,  0,  0,  0,  0,  1,\n",
       "        1,  1,  1,  1,  1,  1,  1,  1,  1,  1,  1,  1,  1,  1,  1,  1,  1,\n",
       "        1,  1,  1,  1,  1,  1,  1,  5,  5,  5,  5,  5,  5,  5,  5,  5,  5,\n",
       "        5,  5,  5,  5,  5,  5,  5,  5,  5,  5,  5,  5,  5,  5,  5,  6,  6,\n",
       "        6,  6,  6,  6,  6,  6,  6,  6,  6,  6,  6,  6,  6,  6,  6,  6,  6,\n",
       "        6,  6,  6,  6,  6,  6,  7,  7,  7,  7,  7,  7,  7,  7,  7,  7,  7,\n",
       "        7,  7,  7,  7,  7,  7,  7,  7,  7,  7,  7,  7,  7,  7,  8,  8,  8,\n",
       "        8,  8,  8,  8,  8,  8,  8,  8,  8,  8,  8,  8,  8,  8,  8,  8,  8,\n",
       "        8,  8,  8,  8,  8,  9,  9,  9,  9,  9,  9,  9,  9,  9,  9,  9,  9,\n",
       "        9,  9,  9,  9,  9,  9,  9,  9,  9,  9,  9,  9,  9, 10, 10, 10, 10,\n",
       "       10, 10, 10, 10, 10, 10, 10, 10, 10, 10, 10, 10, 10, 10, 10, 10, 10,\n",
       "       10, 10, 10, 10, 11, 11, 11, 11, 11, 11, 11, 11, 11, 11, 11, 11, 11,\n",
       "       11, 11, 11, 11, 11, 11, 11, 11, 11, 11, 11, 11, 12, 12, 12, 12, 12,\n",
       "       12, 12, 12, 12, 12, 12, 12, 12, 12, 12, 12, 12, 12, 12, 12, 12, 12,\n",
       "       12, 12, 12,  2,  2,  2,  2,  2,  2,  2,  2,  2,  2,  2,  2,  2,  2,\n",
       "        2,  2,  2,  2,  2,  2,  2,  2,  2,  2,  2,  3,  3,  3,  3,  3,  3,\n",
       "        3,  3,  3,  3,  3,  3,  3,  3,  3,  3,  3,  3,  3,  3,  3,  3,  3,\n",
       "        3,  3])"
      ]
     },
     "execution_count": 338,
     "metadata": {},
     "output_type": "execute_result"
    }
   ],
   "source": [
    "Y"
   ]
  },
  {
   "cell_type": "code",
   "execution_count": 339,
   "metadata": {},
   "outputs": [
    {
     "name": "stdout",
     "output_type": "stream",
     "text": [
      "Model: \"sequential_12\"\n",
      "_________________________________________________________________\n",
      " Layer (type)                Output Shape              Param #   \n",
      "=================================================================\n",
      " conv2d_24 (Conv2D)          (None, 16, 857, 64)       1664      \n",
      "                                                                 \n",
      " dropout_36 (Dropout)        (None, 16, 857, 64)       0         \n",
      "                                                                 \n",
      " max_pooling2d_24 (MaxPoolin  (None, 8, 428, 64)       0         \n",
      " g2D)                                                            \n",
      "                                                                 \n",
      " conv2d_25 (Conv2D)          (None, 4, 424, 64)        102464    \n",
      "                                                                 \n",
      " dropout_37 (Dropout)        (None, 4, 424, 64)        0         \n",
      "                                                                 \n",
      " max_pooling2d_25 (MaxPoolin  (None, 2, 212, 64)       0         \n",
      " g2D)                                                            \n",
      "                                                                 \n",
      " flatten_12 (Flatten)        (None, 27136)             0         \n",
      "                                                                 \n",
      " dense_24 (Dense)            (None, 128)               3473536   \n",
      "                                                                 \n",
      " dropout_38 (Dropout)        (None, 128)               0         \n",
      "                                                                 \n",
      " dense_25 (Dense)            (None, 13)                1677      \n",
      "                                                                 \n",
      "=================================================================\n",
      "Total params: 3,579,341\n",
      "Trainable params: 3,579,341\n",
      "Non-trainable params: 0\n",
      "_________________________________________________________________\n"
     ]
    }
   ],
   "source": [
    "model = keras.Sequential()\n",
    "model.add(keras.layers.Conv2D(64, 5, input_shape=(20, 861, 1), activation='relu'))\n",
    "model.add(keras.layers.Dropout(0.5))\n",
    "model.add(keras.layers.MaxPool2D())\n",
    "model.add(keras.layers.Conv2D(64, 5, activation='relu'))\n",
    "model.add(keras.layers.Dropout(0.5))\n",
    "model.add(keras.layers.MaxPool2D())\n",
    "model.add(keras.layers.Flatten())\n",
    "model.add(keras.layers.Dense(128, activation='relu'))\n",
    "model.add(keras.layers.Dropout(0.5))\n",
    "model.add(keras.layers.Dense(13, activation='softmax'))\n",
    "model.compile(optimizer='adam', loss='sparse_categorical_crossentropy', metrics=['accuracy'])\n",
    "model.summary()"
   ]
  },
  {
   "cell_type": "code",
   "execution_count": 340,
   "metadata": {},
   "outputs": [
    {
     "name": "stdout",
     "output_type": "stream",
     "text": [
      "Epoch 1/20\n",
      "11/11 [==============================] - 6s 540ms/step - loss: 55.3727 - accuracy: 0.3815\n",
      "Epoch 2/20\n",
      "11/11 [==============================] - 6s 523ms/step - loss: 0.0788 - accuracy: 0.9662\n",
      "Epoch 3/20\n",
      "11/11 [==============================] - 6s 524ms/step - loss: 0.0967 - accuracy: 0.9754\n",
      "Epoch 4/20\n",
      "11/11 [==============================] - 6s 520ms/step - loss: 0.0080 - accuracy: 0.9969\n",
      "Epoch 5/20\n",
      "11/11 [==============================] - 6s 518ms/step - loss: 0.0334 - accuracy: 0.9846\n",
      "Epoch 6/20\n",
      "11/11 [==============================] - 6s 519ms/step - loss: 0.0126 - accuracy: 0.9938\n",
      "Epoch 7/20\n",
      "11/11 [==============================] - 6s 513ms/step - loss: 0.0143 - accuracy: 0.9938\n",
      "Epoch 8/20\n",
      "11/11 [==============================] - 6s 490ms/step - loss: 0.0121 - accuracy: 0.9938\n",
      "Epoch 9/20\n",
      "11/11 [==============================] - 5s 493ms/step - loss: 3.3437e-04 - accuracy: 1.0000\n",
      "Epoch 10/20\n",
      "11/11 [==============================] - 5s 495ms/step - loss: 0.0310 - accuracy: 0.9877\n",
      "Epoch 11/20\n",
      "11/11 [==============================] - 6s 494ms/step - loss: 0.0042 - accuracy: 1.0000\n",
      "Epoch 12/20\n",
      "11/11 [==============================] - 6s 499ms/step - loss: 0.0139 - accuracy: 0.9908\n",
      "Epoch 13/20\n",
      "11/11 [==============================] - 5s 485ms/step - loss: 0.0072 - accuracy: 0.9969\n",
      "Epoch 14/20\n",
      "11/11 [==============================] - 5s 492ms/step - loss: 9.4811e-05 - accuracy: 1.0000\n",
      "Epoch 15/20\n",
      "11/11 [==============================] - 6s 500ms/step - loss: 4.2741e-04 - accuracy: 1.0000\n",
      "Epoch 16/20\n",
      "11/11 [==============================] - 5s 484ms/step - loss: 0.0041 - accuracy: 0.9969\n",
      "Epoch 17/20\n",
      "11/11 [==============================] - 5s 482ms/step - loss: 0.0023 - accuracy: 1.0000\n",
      "Epoch 18/20\n",
      "11/11 [==============================] - 5s 484ms/step - loss: 0.0015 - accuracy: 1.0000\n",
      "Epoch 19/20\n",
      "11/11 [==============================] - 6s 502ms/step - loss: 0.0076 - accuracy: 0.9969\n",
      "Epoch 20/20\n",
      "11/11 [==============================] - 6s 516ms/step - loss: 0.0054 - accuracy: 0.9938\n"
     ]
    }
   ],
   "source": [
    "history = model.fit(X, Y, epochs=20)"
   ]
  },
  {
   "cell_type": "code",
   "execution_count": 341,
   "metadata": {},
   "outputs": [
    {
     "data": {
      "text/plain": [
       "'Tembak Atas'"
      ]
     },
     "execution_count": 341,
     "metadata": {},
     "output_type": "execute_result"
    }
   ],
   "source": [
    "x = file_rec('Rec/Jalan Kanan/Hendri_kanan.wav')\n",
    "names[model.predict(x[None,:,:,None]).argmax()]"
   ]
  },
  {
   "cell_type": "code",
   "execution_count": 342,
   "metadata": {},
   "outputs": [
    {
     "data": {
      "text/plain": [
       "'Tembak Nunduk'"
      ]
     },
     "execution_count": 342,
     "metadata": {},
     "output_type": "execute_result"
    }
   ],
   "source": [
    "x = file_rec('Rec/Tembak Kanan/Ran_TembakKanan.wav')\n",
    "names[model.predict(x[None,:,:,None]).argmax()]"
   ]
  },
  {
   "cell_type": "code",
   "execution_count": 343,
   "metadata": {},
   "outputs": [
    {
     "data": {
      "text/plain": [
       "'Bom Kiri'"
      ]
     },
     "execution_count": 343,
     "metadata": {},
     "output_type": "execute_result"
    }
   ],
   "source": [
    "x = file_rec('Rec/Bom Kiri/Ran_bomkiri.wav')\n",
    "names[model.predict(x[None,:,:,None]).argmax()]"
   ]
  },
  {
   "cell_type": "code",
   "execution_count": 344,
   "metadata": {},
   "outputs": [
    {
     "data": {
      "text/plain": [
       "'Tembak Kanan'"
      ]
     },
     "execution_count": 344,
     "metadata": {},
     "output_type": "execute_result"
    }
   ],
   "source": [
    "x = file_rec('Rec/Bom Kanan/Hendri_BomKanan.wav')\n",
    "names[model.predict(x[None,:,:,None]).argmax()]"
   ]
  },
  {
   "cell_type": "code",
   "execution_count": 447,
   "metadata": {},
   "outputs": [
    {
     "name": "stdout",
     "output_type": "stream",
     "text": [
      "* recording\n",
      "* done recording\n"
     ]
    }
   ],
   "source": [
    "time.sleep(3)\n",
    "CHUNK = 1024\n",
    "FORMAT = pyaudio.paInt16\n",
    "CHANNELS = 2\n",
    "RATE = 44100\n",
    "RECORD_SECONDS = 5\n",
    "WAVE_OUTPUT_FILENAME = \"Rec/Predict.wav\"\n",
    "\n",
    "p = pyaudio.PyAudio()\n",
    "\n",
    "stream = p.open(format=FORMAT,\n",
    "                channels=CHANNELS,\n",
    "                rate=RATE,\n",
    "                input=True,\n",
    "                frames_per_buffer=CHUNK)\n",
    "\n",
    "print(\"* recording\")\n",
    "\n",
    "frames = []\n",
    "\n",
    "for i in range(0, int(RATE / CHUNK * RECORD_SECONDS)):\n",
    "    data = stream.read(CHUNK)\n",
    "    frames.append(data)\n",
    "\n",
    "print(\"* done recording\")\n",
    "\n",
    "stream.stop_stream()\n",
    "stream.close()\n",
    "p.terminate()\n",
    "\n",
    "wf = wave.open(WAVE_OUTPUT_FILENAME, 'wb')\n",
    "wf.setnchannels(CHANNELS)\n",
    "wf.setsampwidth(p.get_sample_size(FORMAT))\n",
    "wf.setframerate(RATE)\n",
    "wf.writeframes(b''.join(frames))\n",
    "wf.close()"
   ]
  },
  {
   "cell_type": "code",
   "execution_count": 448,
   "metadata": {},
   "outputs": [
    {
     "data": {
      "text/plain": [
       "'Bom Kiri'"
      ]
     },
     "execution_count": 448,
     "metadata": {},
     "output_type": "execute_result"
    }
   ],
   "source": [
    "x = file_rec('Rec/Predict.wav')\n",
    "prediction = names[model.predict(x[None,:,:,None]).argmax()]\n",
    "prediction"
   ]
  },
  {
   "cell_type": "code",
   "execution_count": 449,
   "metadata": {},
   "outputs": [],
   "source": [
    "if prediction == 'Jalan Kanan':\n",
    "    pyautogui.keyDown(\"right\")\n",
    "    time.sleep(3)\n",
    "    pyautogui.keyUp(\"right\")\n",
    "elif prediction == 'Jalan Kiri':\n",
    "    pyautogui.keyDown(\"left\")\n",
    "    time.sleep(3)\n",
    "    pyautogui.keyUp(\"left\")\n",
    "elif prediction == 'Bom Kiri':\n",
    "    pyautogui.press(\"left\")\n",
    "    pyautogui.press(\"c\")\n",
    "elif prediction == 'Bom Kanan':\n",
    "    pyautogui.press(\"right\")\n",
    "    pyautogui.press(\"c\")\n",
    "elif prediction == 'Hidup':\n",
    "    pyautogui.press(\"z\")\n",
    "elif prediction == 'Lompat':\n",
    "    pyautogui.press(\"x\")\n",
    "elif prediction == 'Melompat Kanan':\n",
    "    pyautogui.keyDown(\"right\")\n",
    "    pyautogui.press(\"x\")\n",
    "    time.sleep(3)\n",
    "    pyautogui.keyUp(\"right\")\n",
    "elif prediction == 'Melompat Kiri':\n",
    "    pyautogui.keyDown(\"left\")\n",
    "    pyautogui.press(\"x\")\n",
    "    pyautogui.keyUp(\"left\")\n",
    "elif prediction == 'Nunduk':\n",
    "    pyautogui.keyDown(\"down\")\n",
    "    time.sleep(3)\n",
    "    pyautogui.keyUp(\"down\")\n",
    "elif prediction == 'Tembak Atas':\n",
    "    pyautogui.keyDown(\"up\")\n",
    "    pyautogui.press(\"z\")\n",
    "    time.sleep(1)\n",
    "    pyautogui.press(\"z\")\n",
    "    time.sleep(1)\n",
    "    pyautogui.press(\"z\")\n",
    "    time.sleep(1)\n",
    "    pyautogui.keyUp(\"up\")\n",
    "elif prediction == 'Tembak Kanan':\n",
    "    pyautogui.press(\"right\")\n",
    "    pyautogui.press(\"z\")\n",
    "    time.sleep(1)\n",
    "    pyautogui.press(\"z\")\n",
    "    time.sleep(1)\n",
    "    pyautogui.press(\"z\")\n",
    "elif prediction == 'Tembak Kiri':\n",
    "    pyautogui.press(\"left\")\n",
    "    pyautogui.press(\"z\")\n",
    "    time.sleep(1)\n",
    "    pyautogui.press(\"z\")\n",
    "    time.sleep(1)\n",
    "    pyautogui.press(\"z\")\n",
    "elif prediction == 'Tembak Nunduk':\n",
    "    pyautogui.keyDown(\"down\")\n",
    "    pyautogui.press(\"z\")\n",
    "    time.sleep(1)\n",
    "    pyautogui.press(\"z\")\n",
    "    time.sleep(1)\n",
    "    pyautogui.press(\"z\")\n",
    "    time.sleep(1)\n",
    "    pyautogui.keyUp(\"down\")\n"
   ]
  }
 ],
 "metadata": {
  "kernelspec": {
   "display_name": "Python 3",
   "language": "python",
   "name": "python3"
  },
  "language_info": {
   "codemirror_mode": {
    "name": "ipython",
    "version": 3
   },
   "file_extension": ".py",
   "mimetype": "text/x-python",
   "name": "python",
   "nbconvert_exporter": "python",
   "pygments_lexer": "ipython3",
   "version": "3.8.10"
  }
 },
 "nbformat": 4,
 "nbformat_minor": 2
}
