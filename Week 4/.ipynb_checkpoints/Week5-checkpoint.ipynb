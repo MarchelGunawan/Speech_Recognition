{
 "cells": [
  {
   "cell_type": "code",
   "execution_count": 22,
   "id": "e7fcc563",
   "metadata": {},
   "outputs": [],
   "source": [
    "import numpy as np\n",
    "from numpy.fft import fft\n",
    "import pydub\n",
    "import matplotlib.pyplot as plt\n",
    "%matplotlib inline\n",
    "import numpy\n",
    "import math"
   ]
  },
  {
   "cell_type": "code",
   "execution_count": 10,
   "id": "0c9243c1",
   "metadata": {},
   "outputs": [],
   "source": [
    "a = pydub.AudioSegment.from_wav('IniIbuBudi.wav')\n",
    "y = np.array(a.get_array_of_samples())"
   ]
  },
  {
   "cell_type": "code",
   "execution_count": 11,
   "id": "ad8f539c",
   "metadata": {},
   "outputs": [
    {
     "data": {
      "text/plain": [
       "603"
      ]
     },
     "execution_count": 11,
     "metadata": {},
     "output_type": "execute_result"
    }
   ],
   "source": [
    "f=[]\n",
    "w=256\n",
    "for i in range(round(len(y)/w)-1):\n",
    "    f.append(y[i*w:(i+1)*w-1])\n",
    "len(f)"
   ]
  },
  {
   "cell_type": "code",
   "execution_count": 205,
   "id": "577fe869",
   "metadata": {},
   "outputs": [
    {
     "name": "stdout",
     "output_type": "stream",
     "text": [
      "301\n",
      "302\n"
     ]
    }
   ],
   "source": [
    "holdPos=[]\n",
    "holdNega=[]\n",
    "for i in range (len(f)):\n",
    "    x= np.corrcoef(f[0],f[i])[0][1]\n",
    "    if x >0:\n",
    "        holdPos.append(x)\n",
    "    else:\n",
    "        holdNega.append(x)\n",
    "        \n",
    "    holdPos.sort()\n",
    "    holdNega.sort(reverse = True)\n",
    "print(len(holdPos))\n",
    "print(len(holdNega))"
   ]
  },
  {
   "cell_type": "code",
   "execution_count": 144,
   "id": "057f9ef1",
   "metadata": {},
   "outputs": [
    {
     "name": "stdout",
     "output_type": "stream",
     "text": [
      "20\n",
      "20\n"
     ]
    }
   ],
   "source": [
    "pato1 = math.floor(len(holdNega)/15)\n",
    "print(pato1)\n",
    "pato2 = math.floor(len(holdPos)/15)\n",
    "print(pato2)"
   ]
  },
  {
   "cell_type": "code",
   "execution_count": 177,
   "id": "5eb8cb9b",
   "metadata": {},
   "outputs": [],
   "source": [
    "pointNeg=[]\n",
    "pointPos=[]\n",
    "for i in range (pato1//2,len(holdNega),pato1):\n",
    "    pointNeg.append(holdNega[i])\n",
    "for j in range (pato2//2,len(holdPos),pato2):\n",
    "    pointPos.append(holdPos[j])\n"
   ]
  },
  {
   "cell_type": "code",
   "execution_count": 180,
   "id": "b77270d6",
   "metadata": {},
   "outputs": [],
   "source": [
    "def checkClose(a,b,c):\n",
    "    return abs(a-b) < abs(a-c)"
   ]
  },
  {
   "cell_type": "code",
   "execution_count": 206,
   "id": "2782d371",
   "metadata": {},
   "outputs": [],
   "source": [
    "Pos1=[]\n",
    "Pos2=[]\n",
    "Pos3=[]\n",
    "Pos4=[]\n",
    "Pos5=[]\n",
    "Pos6=[]\n",
    "Pos7=[]\n",
    "Pos8=[]\n",
    "Pos9=[]\n",
    "Pos10=[]\n",
    "Pos11=[]\n",
    "Pos12=[]\n",
    "Pos13=[]\n",
    "Pos14=[]\n",
    "Pos15=[]\n",
    "Neg1=[]\n",
    "Neg2=[]\n",
    "Neg3=[]\n",
    "Neg4=[]\n",
    "Neg5=[]\n",
    "Neg6=[]\n",
    "Neg7=[]\n",
    "Neg8=[]\n",
    "Neg9=[]\n",
    "Neg10=[]\n",
    "Neg11=[]\n",
    "Neg12=[]\n",
    "Neg13=[]\n",
    "Neg14=[]\n",
    "Neg15=[]\n",
    "\n",
    "\n",
    "for i in range (len(f)):\n",
    "    y= np.corrcoef(f[0],f[i])[0][1]\n",
    "    if y<0:\n",
    "        if checkClose(y,pointNeg[0],pointNeg[1]):\n",
    "            Neg1.append(y)\n",
    "        elif checkClose(y,pointNeg[1],pointNeg[2]):\n",
    "            Neg2.append(i)\n",
    "        elif checkClose(y,pointNeg[2],pointNeg[3]):\n",
    "            Neg3.append(i)\n",
    "        elif checkClose(y,pointNeg[3],pointNeg[4]):\n",
    "            Neg4.append(i)\n",
    "        elif checkClose(y,pointNeg[4],pointNeg[5]):\n",
    "            Neg5.append(i)\n",
    "        elif checkClose(y,pointNeg[5],pointNeg[6]):\n",
    "            Neg6.append(i)\n",
    "        elif checkClose(y,pointNeg[6],pointNeg[7]):\n",
    "            Neg7.append(i)\n",
    "        elif checkClose(y,pointNeg[7],pointNeg[8]):\n",
    "            Neg8.append(i)\n",
    "        elif checkClose(y,pointNeg[8],pointNeg[9]):\n",
    "            Neg9.append(i)\n",
    "        elif checkClose(y,pointNeg[9],pointNeg[10]):\n",
    "            Neg10.append(i)\n",
    "        elif checkClose(y,pointNeg[10],pointNeg[11]):\n",
    "            Neg11.append(i)\n",
    "        elif checkClose(y,pointNeg[11],pointNeg[12]):\n",
    "            Neg12.append(i)\n",
    "        elif checkClose(y,pointNeg[12],pointNeg[13]):\n",
    "            Neg13.append(i)\n",
    "        elif checkClose(y,pointNeg[13],pointNeg[14]):\n",
    "            Neg14.append(i)\n",
    "        else:\n",
    "            Neg15.append(i)     \n",
    "    elif y>0:\n",
    "        if checkClose(y,pointPos[0],pointPos[1]):\n",
    "            Pos1.append(i)\n",
    "        elif checkClose(y,pointPos[1],pointPos[2]):\n",
    "            Pos2.append(i)\n",
    "        elif checkClose(y,pointPos[2],pointPos[3]):\n",
    "            Pos3.append(i)\n",
    "        elif checkClose(y,pointPos[3],pointPos[4]):\n",
    "            Pos4.append(i)\n",
    "        elif checkClose(y,pointPos[4],pointPos[5]):\n",
    "            Pos5.append(i)\n",
    "        elif checkClose(y,pointPos[5],pointPos[6]):\n",
    "            Pos6.append(i)\n",
    "        elif checkClose(y,pointPos[6],pointPos[7]):\n",
    "            Pos7.append(i)\n",
    "        elif checkClose(y,pointPos[7],pointPos[8]):\n",
    "            Pos8.append(i)\n",
    "        elif checkClose(y,pointPos[8],pointPos[9]):\n",
    "            Pos9.append(i)\n",
    "        elif checkClose(y,pointPos[9],pointPos[10]):\n",
    "            Pos10.append(i)\n",
    "        elif checkClose(y,pointPos[10],pointPos[11]):\n",
    "            Pos11.append(i)\n",
    "        elif checkClose(y,pointPos[11],pointPos[12]):\n",
    "            Pos12.append(i)\n",
    "        elif checkClose(y,pointPos[12],pointPos[13]):\n",
    "            Pos13.append(i)\n",
    "        elif checkClose(y,pointPos[13],pointPos[14]):\n",
    "            Pos14.append(i)\n",
    "        else:\n",
    "            Pos15.append(i)    "
   ]
  }
 ],
 "metadata": {
  "kernelspec": {
   "display_name": "Python 3 (ipykernel)",
   "language": "python",
   "name": "python3"
  },
  "language_info": {
   "codemirror_mode": {
    "name": "ipython",
    "version": 3
   },
   "file_extension": ".py",
   "mimetype": "text/x-python",
   "name": "python",
   "nbconvert_exporter": "python",
   "pygments_lexer": "ipython3",
   "version": "3.8.10"
  }
 },
 "nbformat": 4,
 "nbformat_minor": 5
}
