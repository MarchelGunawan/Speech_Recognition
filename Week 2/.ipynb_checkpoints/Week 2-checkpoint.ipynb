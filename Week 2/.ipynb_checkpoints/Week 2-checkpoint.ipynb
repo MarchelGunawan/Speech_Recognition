{
 "cells": [
  {
   "cell_type": "code",
   "execution_count": 22,
   "id": "3b17fb91",
   "metadata": {},
   "outputs": [],
   "source": [
    "import numpy as np\n",
    "from numpy.fft import fft\n",
    "import pydub\n",
    "import matplotlib.pyplot as plt\n",
    "from pathlib import Path\n",
    "import pandas as pd\n",
    "import bisect\n",
    "%matplotlib inline"
   ]
  },
  {
   "cell_type": "code",
   "execution_count": 23,
   "id": "4bb72f68",
   "metadata": {},
   "outputs": [],
   "source": [
    "song = Path('merah_putih.ogg')\n",
    "a = pydub.AudioSegment.from_ogg(song)\n",
    "y = np.array(a.get_array_of_samples())"
   ]
  },
  {
   "cell_type": "code",
   "execution_count": 24,
   "id": "25c2cd7b",
   "metadata": {},
   "outputs": [
    {
     "data": {
      "image/png": "[encoded data removed]",
      "text/plain": [
       "<Figure size 432x288 with 1 Axes>"
      ]
     },
     "metadata": {
      "needs_background": "light"
     },
     "output_type": "display_data"
    }
   ],
   "source": [
    "plt.plot(y)\n",
    "plt.show()"
   ]
  },
  {
   "cell_type": "code",
   "execution_count": 25,
   "id": "07bd2b71",
   "metadata": {},
   "outputs": [
    {
     "data": {
      "text/plain": [
       "48000"
      ]
     },
     "execution_count": 25,
     "metadata": {},
     "output_type": "execute_result"
    }
   ],
   "source": [
    "a.frame_rate"
   ]
  },
  {
   "cell_type": "code",
   "execution_count": 26,
   "id": "197d612b",
   "metadata": {},
   "outputs": [
    {
     "data": {
      "text/plain": [
       "array([-19376936, -10539465, -18438306, ...,         0,         0,\n",
       "               0], dtype=int32)"
      ]
     },
     "execution_count": 26,
     "metadata": {},
     "output_type": "execute_result"
    }
   ],
   "source": [
    "y"
   ]
  },
  {
   "cell_type": "code",
   "execution_count": 27,
   "id": "4ca1b721",
   "metadata": {},
   "outputs": [
    {
     "data": {
      "image/png": "[encoded data removed]",
      "text/plain": [
       "<Figure size 432x288 with 1 Axes>"
      ]
     },
     "metadata": {
      "needs_background": "light"
     },
     "output_type": "display_data"
    }
   ],
   "source": [
    "yf = fft(y)\n",
    "plt.plot(np.abs(yf))\n",
    "plt.show()"
   ]
  },
  {
   "cell_type": "code",
   "execution_count": 28,
   "id": "20bf8b1f",
   "metadata": {},
   "outputs": [
    {
     "data": {
      "text/plain": [
       "82336"
      ]
     },
     "execution_count": 28,
     "metadata": {},
     "output_type": "execute_result"
    }
   ],
   "source": [
    "len(y)"
   ]
  },
  {
   "cell_type": "code",
   "execution_count": 29,
   "id": "356da6af",
   "metadata": {},
   "outputs": [
    {
     "data": {
      "text/plain": [
       "642"
      ]
     },
     "execution_count": 29,
     "metadata": {},
     "output_type": "execute_result"
    }
   ],
   "source": [
    "f = []\n",
    "w = 128\n",
    "for i in range(round(len(y)/w)-1):\n",
    "    f.append(y[i*w:(i+1)*w-1])\n",
    "len(f)"
   ]
  },
  {
   "cell_type": "code",
   "execution_count": 30,
   "id": "4f089d92",
   "metadata": {},
   "outputs": [
    {
     "name": "stdout",
     "output_type": "stream",
     "text": [
      "0 -19376936\n",
      "1 -10539465\n",
      "2 -18438306\n",
      "3 -13207947\n",
      "4 -17995870\n",
      "5 -12909115\n",
      "6 -23577656\n",
      "7 -12978429\n",
      "8 -22788578\n",
      "9 -13180073\n",
      "10 -22051578\n",
      "11 -14901646\n",
      "12 -21928734\n",
      "13 -14196553\n",
      "14 -19087526\n",
      "15 -12702382\n",
      "16 -19902334\n",
      "17 -15161835\n",
      "18 -19259820\n",
      "19 -12856374\n",
      "20 -21043614\n",
      "21 -12806653\n",
      "22 -18207900\n",
      "23 -11667593\n",
      "24 -15454879\n",
      "25 -6730796\n",
      "26 -21379364\n",
      "27 -10136694\n",
      "28 -16244224\n",
      "29 -11182737\n",
      "30 -12106049\n",
      "31 -9913476\n",
      "32 -16425184\n",
      "33 -11771971\n",
      "34 -13757798\n",
      "35 -9200024\n",
      "36 -14110543\n",
      "37 -8627463\n",
      "38 -18782734\n",
      "39 -11531391\n",
      "40 -17226140\n",
      "41 -9497895\n",
      "42 -16355236\n",
      "43 -8172450\n",
      "44 -19125140\n",
      "45 -8786842\n",
      "46 -16819890\n",
      "47 -5551086\n",
      "48 -16213142\n",
      "49 -7449990\n",
      "50 -16657752\n",
      "51 -8300302\n",
      "52 -13285777\n",
      "53 -6117717\n",
      "54 -15925298\n",
      "55 -10808116\n",
      "56 -17761986\n",
      "57 -8841381\n",
      "58 -19105246\n",
      "59 -7111884\n",
      "60 -19279832\n",
      "61 -8729686\n",
      "62 -15307420\n",
      "63 -5814566\n",
      "64 -17573520\n",
      "65 -7395813\n",
      "66 -15347248\n",
      "67 -5939742\n",
      "68 -13058688\n",
      "69 -5378360\n",
      "70 -15737063\n",
      "71 -5726044\n",
      "72 -14080140\n",
      "73 -3776019\n",
      "74 -14137496\n",
      "75 -7041412\n",
      "76 -13720851\n",
      "77 -5348574\n",
      "78 -15241110\n",
      "79 -5203548\n",
      "80 -14704272\n",
      "81 -6907766\n",
      "82 -11590128\n",
      "83 -7096750\n",
      "84 -13344114\n",
      "85 -9639779\n",
      "86 -11844153\n",
      "87 -6962672\n",
      "88 -11619253\n",
      "89 -8733700\n",
      "90 -10347388\n",
      "91 -8752531\n",
      "92 -10009908\n",
      "93 -4272608\n",
      "94 -14757006\n",
      "95 -7313241\n",
      "96 -12774731\n",
      "97 -7784435\n",
      "98 -11095792\n",
      "99 -4708051\n",
      "100 -13059601\n",
      "101 -3647957\n",
      "102 -14970022\n",
      "103 -7195155\n",
      "104 -12836246\n",
      "105 -8498195\n",
      "106 -10362800\n",
      "107 -4330248\n",
      "108 -12505469\n",
      "109 -3895843\n",
      "110 -10881960\n",
      "111 -5537182\n",
      "112 -12642366\n",
      "113 -8067049\n",
      "114 -11971938\n",
      "115 -6434052\n",
      "116 -10079479\n",
      "117 -5133462\n",
      "118 -14417111\n",
      "119 -7653398\n",
      "120 -11616317\n",
      "121 -6397234\n",
      "122 -11193556\n",
      "123 -7903960\n",
      "124 -11248290\n",
      "125 -7625576\n",
      "126 -10970484\n"
     ]
    }
   ],
   "source": [
    "for i in range(w-1):\n",
    "    print(i, f[0][i])"
   ]
  },
  {
   "cell_type": "code",
   "execution_count": 31,
   "id": "3438cad1",
   "metadata": {},
   "outputs": [
    {
     "data": {
      "text/plain": [
       "array([[1.        , 0.26973131],\n",
       "       [0.26973131, 1.        ]])"
      ]
     },
     "execution_count": 31,
     "metadata": {},
     "output_type": "execute_result"
    }
   ],
   "source": [
    "np.corrcoef(f[1],f[2])"
   ]
  },
  {
   "cell_type": "code",
   "execution_count": 32,
   "id": "ac0be451",
   "metadata": {},
   "outputs": [
    {
     "name": "stderr",
     "output_type": "stream",
     "text": [
      "/home/marchel/.local/lib/python3.8/site-packages/numpy/lib/function_base.py:2559: RuntimeWarning: invalid value encountered in true_divide\n",
      "  c /= stddev[:, None]\n",
      "/home/marchel/.local/lib/python3.8/site-packages/numpy/lib/function_base.py:2560: RuntimeWarning: invalid value encountered in true_divide\n",
      "  c /= stddev[None, :]\n"
     ]
    }
   ],
   "source": [
    "c=[]\n",
    "for i in range(len(f)):\n",
    "    for j in range(len(f)):\n",
    "        c.append(np.corrcoef(f[i],f[j]))"
   ]
  },
  {
   "cell_type": "code",
   "execution_count": 87,
   "id": "3d2f2556",
   "metadata": {},
   "outputs": [
    {
     "data": {
      "text/plain": [
       "[-0.9952200431068523,\n",
       " -0.9952200431068522,\n",
       " -0.9920011925315008,\n",
       " -0.9902694205114377,\n",
       " -0.9886807976019835,\n",
       " -0.987929669409605,\n",
       " -0.9879296694096049,\n",
       " -0.9877841153516513,\n",
       " -0.9865058692360154,\n",
       " -0.9863318887904167,\n",
       " -0.9861673508356538,\n",
       " -0.9857885298987683,\n",
       " -0.9846799569636283,\n",
       " -0.9845551489887072,\n",
       " -0.9843389616265986,\n",
       " -0.9835933557917146,\n",
       " -0.9834027255191459,\n",
       " -0.9826812530201313,\n",
       " -0.9826812530201312,\n",
       " -0.9826421736151444,\n",
       " -0.9826401993396175,\n",
       " -0.9824640592226813,\n",
       " -0.9824538256323498,\n",
       " -0.9822668784381247,\n",
       " -0.9818136419187261,\n",
       " -0.9816285191910886,\n",
       " -0.9815114705421385,\n",
       " -0.9811316812910688,\n",
       " -0.980335637700105,\n",
       " -0.9802933127961653,\n",
       " -0.9797834985347991,\n",
       " -0.979783498534799,\n",
       " -0.979722129861264,\n",
       " -0.9793920639190548,\n",
       " -0.9793920639190546,\n",
       " -0.9793561457155956,\n",
       " -0.9793005771571307,\n",
       " -0.9793005771571307,\n",
       " -0.9786569384258409,\n",
       " -0.9785913298715752,\n",
       " -0.9785765619637943,\n",
       " -0.9784424074269271,\n",
       " -0.9784412871540334,\n",
       " -0.9784355273981862,\n",
       " -0.9781555822866398,\n",
       " -0.9780077739325965,\n",
       " -0.9779578454343671,\n",
       " -0.977957845434367,\n",
       " -0.9777509834644657,\n",
       " -0.9776555205186319,\n",
       " -0.9776356984950273,\n",
       " -0.9776356984950272,\n",
       " -0.9776232344591159,\n",
       " -0.9776188494643908,\n",
       " -0.9775076092153034,\n",
       " -0.9774677820238379,\n",
       " -0.9772513044609283,\n",
       " -0.9771617711308734,\n",
       " -0.976890620247676,\n",
       " -0.976890620247676,\n",
       " -0.976842453782236,\n",
       " -0.9766960870792207,\n",
       " -0.9766269194867568,\n",
       " -0.9766269194867568,\n",
       " -0.9761388145636232,\n",
       " -0.9759587252618211,\n",
       " -0.9758876531825579,\n",
       " -0.9756595888031754,\n",
       " -0.9754478297953328,\n",
       " -0.9752217970427386,\n",
       " -0.9751612161107965,\n",
       " -0.9751612161107965,\n",
       " -0.9750236980550643,\n",
       " -0.9748865360827978,\n",
       " -0.9748865360827978,\n",
       " -0.9747431126223407,\n",
       " -0.9747431126223407,\n",
       " -0.9747090406141556,\n",
       " -0.9746355204856411,\n",
       " -0.9741518739715648,\n",
       " -0.9740462509168976,\n",
       " -0.9739899478409348,\n",
       " -0.9739591455365153,\n",
       " -0.9732935988298997,\n",
       " -0.973273453956883,\n",
       " -0.973008380393393,\n",
       " -0.9730083803933929,\n",
       " -0.972998227486146,\n",
       " -0.9728927815353305,\n",
       " -0.9728927815353304,\n",
       " -0.9728214952326628,\n",
       " -0.9727765908898987,\n",
       " -0.9727608014314177,\n",
       " -0.9725966917400514,\n",
       " -0.9725966917400513,\n",
       " -0.9721840333773771,\n",
       " -0.9721151056412357,\n",
       " -0.9720371944548758,\n",
       " -0.971969057410605,\n",
       " -0.9717996522087744,\n",
       " -0.9716715876282317,\n",
       " -0.9715105120246434,\n",
       " -0.9715105120246433,\n",
       " -0.9715025490604835,\n",
       " -0.9711230321343266,\n",
       " -0.9710072308216346,\n",
       " -0.9703172128857919,\n",
       " -0.9701586270916388,\n",
       " -0.969802266592109,\n",
       " -0.9697382236202883,\n",
       " -0.9696434277940057,\n",
       " -0.9696434277940056,\n",
       " -0.9695526557504206,\n",
       " -0.9695247320051033,\n",
       " -0.9694882178240107,\n",
       " -0.9694420818598493,\n",
       " -0.9693115325852846,\n",
       " -0.9693115325852846,\n",
       " -0.9691264215384343,\n",
       " -0.969121206649551,\n",
       " -0.9686902875037894,\n",
       " -0.9686847636723538,\n",
       " -0.9686847636723538,\n",
       " -0.9686151482570392,\n",
       " -0.968569082079794,\n",
       " -0.9685655935816362,\n",
       " -0.9684258089557083,\n",
       " -0.9684043518197238,\n",
       " -0.9680350172202495,\n",
       " -0.9676162918404588,\n",
       " -0.9676162918404588,\n",
       " -0.9674538850151694,\n",
       " -0.9674538850151694,\n",
       " -0.9669508755152667,\n",
       " -0.9669161575149402,\n",
       " -0.9667424568457877,\n",
       " -0.9665081010892911,\n",
       " -0.9661912155239938,\n",
       " -0.9661687849251233,\n",
       " -0.9661501284538643,\n",
       " -0.9661166674640328,\n",
       " -0.9660629717494966,\n",
       " -0.9659391108127287,\n",
       " -0.9659391108127285,\n",
       " -0.9657336438014605,\n",
       " -0.9656384504586948,\n",
       " -0.9654714727315121,\n",
       " -0.9653032538354064,\n",
       " -0.9651027531495742,\n",
       " -0.9651027531495742,\n",
       " -0.965081748758295,\n",
       " -0.9648162738971455,\n",
       " -0.9646255293401303,\n",
       " -0.9645956001563321,\n",
       " -0.964212677392772,\n",
       " -0.9640231576040438,\n",
       " -0.9639422874138878,\n",
       " -0.9638323542540203,\n",
       " -0.9635856057017924,\n",
       " -0.9635381548290133,\n",
       " -0.9633246249507922,\n",
       " -0.9632464076651829,\n",
       " -0.9632286546017442,\n",
       " -0.9631640108308692,\n",
       " -0.9631473489474242,\n",
       " -0.9630637098302601,\n",
       " -0.9630213655736377,\n",
       " -0.9630211866037879,\n",
       " -0.963008140252184,\n",
       " -0.962824263989719,\n",
       " -0.9627113527067276,\n",
       " -0.9624881203079106,\n",
       " -0.9622976644459895,\n",
       " -0.9622812583653875,\n",
       " -0.9622498009864758,\n",
       " -0.962173605888688,\n",
       " -0.962055221684732,\n",
       " -0.962055221684732,\n",
       " -0.961930275306757,\n",
       " -0.9618695397345959,\n",
       " -0.9618423258030154,\n",
       " -0.9618142861782031,\n",
       " -0.9618102972733396,\n",
       " -0.9615322360429177,\n",
       " -0.9614942929703928,\n",
       " -0.9613882612941921,\n",
       " -0.9613316703956586,\n",
       " -0.9613276657141254,\n",
       " -0.9612547256422039,\n",
       " -0.9611646031743319,\n",
       " -0.9610330493482361,\n",
       " -0.9609273638336735,\n",
       " -0.9608683605955209,\n",
       " -0.9605267746113152,\n",
       " -0.9605135269941137,\n",
       " -0.9603790587721384,\n",
       " -0.9603264171834957,\n",
       " -0.9603264171834955,\n",
       " -0.9601257290779748,\n",
       " -0.9599070731497701,\n",
       " -0.959784718351604,\n",
       " -0.9597765300415921,\n",
       " -0.959723102345894,\n",
       " -0.9596385173772745,\n",
       " -0.9594885945690584,\n",
       " -0.9594697826551715,\n",
       " -0.959385887718101,\n",
       " -0.9593832352397587,\n",
       " -0.9591553610204105,\n",
       " -0.9591553610204104,\n",
       " -0.9590784919511072,\n",
       " -0.9590282456565018,\n",
       " -0.9588713452370194,\n",
       " -0.9588228257449853,\n",
       " -0.9585331435542801,\n",
       " -0.958472009495828,\n",
       " -0.9583263430508978,\n",
       " -0.9582090159385391,\n",
       " -0.9581225447449555,\n",
       " -0.958012531068951,\n",
       " -0.958012531068951,\n",
       " -0.9579718838663389,\n",
       " -0.9579482746567538,\n",
       " -0.9577914575139227,\n",
       " -0.9576933185826441,\n",
       " -0.9576149243197645,\n",
       " -0.9574294190038228,\n",
       " -0.9573016409431496,\n",
       " -0.9573011006028534,\n",
       " -0.9573011006028533,\n",
       " -0.9572076141305702,\n",
       " -0.9570825784046288,\n",
       " -0.9569568855001762,\n",
       " -0.9568740229827188,\n",
       " -0.9568645290639554,\n",
       " -0.9567648960627819,\n",
       " -0.956755409084364,\n",
       " -0.9567239519746645,\n",
       " -0.9566218432181945,\n",
       " -0.9563564721218801,\n",
       " -0.9562577582848637,\n",
       " -0.9562125018869122,\n",
       " -0.9561837912737564,\n",
       " -0.956083569758574,\n",
       " -0.955888535869304,\n",
       " -0.955872492912636,\n",
       " -0.9557282200165096,\n",
       " -0.9554788662459803,\n",
       " -0.9554159236690937,\n",
       " -0.9553369054565424,\n",
       " -0.9553135216373169,\n",
       " -0.9550180342997826,\n",
       " -0.9547018367314815,\n",
       " -0.9546967385966704,\n",
       " -0.9545740558356951,\n",
       " -0.9545572231445866,\n",
       " -0.9544253940731867,\n",
       " -0.9543093488848341,\n",
       " -0.954225106050027,\n",
       " -0.9542142591384923,\n",
       " -0.9542142591384923,\n",
       " -0.9540448118871361,\n",
       " -0.95401160986664,\n",
       " -0.9539914103943721,\n",
       " -0.953991410394372,\n",
       " -0.9539654565787832,\n",
       " -0.9537888229782148,\n",
       " -0.9537082021808087,\n",
       " -0.9537049525287441,\n",
       " -0.9536297574352293,\n",
       " -0.9535773356724214,\n",
       " -0.9535405981352756,\n",
       " -0.9534944777680832,\n",
       " -0.9534895145814613,\n",
       " -0.9533701850281195,\n",
       " -0.9533030571950242,\n",
       " -0.9532164821909228,\n",
       " -0.952987856834146,\n",
       " -0.9528349001453125,\n",
       " -0.9527300464974761,\n",
       " -0.9526839177437846,\n",
       " -0.9526839177437846,\n",
       " -0.9526736610036247,\n",
       " -0.9524616724476649,\n",
       " -0.9524167475484279,\n",
       " -0.9523441557744479,\n",
       " -0.9521011186984033,\n",
       " -0.9520937810710188,\n",
       " -0.9520937810710187,\n",
       " -0.9519677597306394,\n",
       " -0.951789688357698,\n",
       " -0.9517568616409143,\n",
       " -0.9516727315971671,\n",
       " -0.9516180718942279,\n",
       " -0.9513968553336477,\n",
       " -0.9513373540922211,\n",
       " -0.951294686010986,\n",
       " -0.951273067389677,\n",
       " -0.9512641532181725,\n",
       " -0.9512567573055409,\n",
       " -0.9509998566643131,\n",
       " -0.950999856664313,\n",
       " -0.9509928963888804,\n",
       " -0.9509928963888803,\n",
       " -0.9508931697129827,\n",
       " -0.9508574169645788,\n",
       " -0.9507070161131304,\n",
       " -0.9506647932548888,\n",
       " -0.9505869473443037,\n",
       " -0.9505275549965132,\n",
       " -0.9504498007658152,\n",
       " -0.9503066417732859,\n",
       " -0.9499321546357316,\n",
       " -0.9498547975617923,\n",
       " -0.9498387372974187,\n",
       " -0.9496878457036281,\n",
       " -0.9496366556269016,\n",
       " -0.9496193292825748,\n",
       " -0.9494976250085118,\n",
       " -0.9494554876021402,\n",
       " -0.9492749550686825,\n",
       " -0.9491884197431049,\n",
       " -0.9491169739984533,\n",
       " -0.9487538248492866,\n",
       " -0.9487286102243082,\n",
       " -0.9486255940704122,\n",
       " -0.9485744162662666,\n",
       " -0.9483933401925014,\n",
       " -0.9483739936794409,\n",
       " -0.9481624566346312,\n",
       " -0.9481572280323557,\n",
       " -0.9481345338599131,\n",
       " -0.9481060501298415,\n",
       " -0.947821172363762,\n",
       " -0.9477895945765457,\n",
       " -0.947758839100332,\n",
       " -0.9476057660889868,\n",
       " -0.9476045877281709,\n",
       " -0.9476045877281708,\n",
       " -0.9475191046677637,\n",
       " -0.9474736992399386,\n",
       " -0.9474736992399386,\n",
       " -0.9474402648647283,\n",
       " -0.9474402648647283,\n",
       " -0.9473377731725136,\n",
       " -0.9473228458636773,\n",
       " -0.9471524825639711,\n",
       " -0.9471381403434882,\n",
       " -0.9470107898466906,\n",
       " -0.9468817980556573,\n",
       " -0.9467891801486936,\n",
       " -0.9467516207532056,\n",
       " -0.9467347524391473,\n",
       " -0.9467283782446569,\n",
       " -0.9465762207818266,\n",
       " -0.9464610787491581,\n",
       " -0.9463650428979081,\n",
       " -0.9463581317372058,\n",
       " -0.9462714048321136,\n",
       " -0.9459267720801221,\n",
       " -0.9458443828585907,\n",
       " -0.9458067416424148,\n",
       " -0.9456328612498505,\n",
       " -0.9455436121390968,\n",
       " -0.9454587945232525,\n",
       " -0.945430681474944,\n",
       " -0.9453004681051697,\n",
       " -0.9452414663553883,\n",
       " -0.9451811711517475,\n",
       " -0.9451811711517475,\n",
       " -0.9451673196142971,\n",
       " -0.944978274748984,\n",
       " -0.9449698889206876,\n",
       " -0.9448699138337145,\n",
       " -0.9446433204134388,\n",
       " -0.944563709299634,\n",
       " -0.9445453454816733,\n",
       " -0.9445453454816733,\n",
       " -0.9444385732973227,\n",
       " -0.9441268476272521,\n",
       " -0.944102623324532,\n",
       " -0.9440062185071852,\n",
       " -0.9439560208830271,\n",
       " -0.9438915713875186,\n",
       " -0.9436082936510807,\n",
       " -0.9435822497655133,\n",
       " -0.9435670554806519,\n",
       " -0.943522899652352,\n",
       " -0.9434548485549596,\n",
       " -0.9433154814916945,\n",
       " -0.9432123229996219,\n",
       " -0.943080110310664,\n",
       " -0.943019070440841,\n",
       " -0.943006017640743,\n",
       " -0.9429657217658264,\n",
       " -0.9429546470440433,\n",
       " -0.9429546470440433,\n",
       " -0.9429441694432714,\n",
       " -0.9428589097040824,\n",
       " -0.9428423974059854,\n",
       " -0.9427479570995976,\n",
       " -0.942663362939294,\n",
       " -0.9426130484216577,\n",
       " -0.9425801747096939,\n",
       " -0.9425478339899215,\n",
       " -0.9423020728845469,\n",
       " -0.9422722702148837,\n",
       " -0.9422575732596968,\n",
       " -0.9422575732596968,\n",
       " -0.9420937586505447,\n",
       " -0.9420749441084859,\n",
       " -0.9420176441790641,\n",
       " -0.9419005495423822,\n",
       " -0.9418757754513574,\n",
       " -0.9418757754513574,\n",
       " -0.9418448173254026,\n",
       " -0.9417193437892322,\n",
       " -0.9417043738945448,\n",
       " -0.9416998890748721,\n",
       " -0.9416204461730059,\n",
       " -0.9415644876413889,\n",
       " -0.9415188179522438,\n",
       " -0.9415040548183824,\n",
       " -0.9414837567068173,\n",
       " -0.9414644418552162,\n",
       " -0.9414029254662604,\n",
       " -0.9413436596459893,\n",
       " -0.9413386799628741,\n",
       " -0.941338679962874,\n",
       " -0.9412701936697879,\n",
       " -0.9412109766152447,\n",
       " -0.9412105637764526,\n",
       " -0.9411862938813964,\n",
       " -0.9411108475854778,\n",
       " -0.9410036156786293,\n",
       " -0.9409610818676034,\n",
       " -0.9409597403587513,\n",
       " -0.9409359914108835,\n",
       " -0.9409359914108834,\n",
       " -0.9408762985910487,\n",
       " -0.9408483950979538,\n",
       " -0.9408117834378318,\n",
       " -0.9406492121379534,\n",
       " -0.9406376330281067,\n",
       " -0.940519535209399,\n",
       " -0.9405025386142974,\n",
       " -0.9403504774401674,\n",
       " -0.940296101757455,\n",
       " -0.9399171263998826,\n",
       " -0.9397855410548358,\n",
       " -0.9396650953412224,\n",
       " -0.9396320033113688,\n",
       " -0.9393212146614338,\n",
       " -0.9392959455499301,\n",
       " -0.9392821479901006,\n",
       " -0.93909821498009,\n",
       " -0.9390669057006845,\n",
       " -0.9390669057006845,\n",
       " -0.938989196353822,\n",
       " -0.9389756374856375,\n",
       " -0.9389610225321474,\n",
       " -0.9389498702119367,\n",
       " -0.9389097821560447,\n",
       " -0.9388317391125727,\n",
       " -0.9388317391125727,\n",
       " -0.9386007980706267,\n",
       " -0.9385885443571876,\n",
       " -0.938557834736598,\n",
       " -0.9385522190680643,\n",
       " -0.9385456863528026,\n",
       " -0.9385227314736317,\n",
       " -0.9385199619446261,\n",
       " -0.9384745357259547,\n",
       " -0.9384509551378134,\n",
       " -0.9383140676502821,\n",
       " -0.9383076507953921,\n",
       " -0.9382915705652891,\n",
       " -0.9380948945745679,\n",
       " -0.9380121197231558,\n",
       " -0.9378274996538183,\n",
       " -0.9378246504655707,\n",
       " -0.9378122375792937,\n",
       " -0.9377766290577041,\n",
       " -0.9375612528086059,\n",
       " -0.9374608944826873,\n",
       " -0.9374133909572486,\n",
       " -0.9373906847877408,\n",
       " -0.9372567655800815,\n",
       " -0.9370848870728908,\n",
       " -0.9370607769823854,\n",
       " -0.9368644448334067,\n",
       " -0.9368282319166775,\n",
       " -0.9368282319166774,\n",
       " -0.9367619465248954,\n",
       " -0.9367310233966841,\n",
       " -0.9366400139031548,\n",
       " -0.9365896588101879,\n",
       " -0.9365414013036347,\n",
       " -0.9362638521510865,\n",
       " -0.9361391478178189,\n",
       " -0.9361376214793365,\n",
       " -0.9359752555978647,\n",
       " -0.9358648147789569,\n",
       " -0.9356452778866248,\n",
       " -0.9356335759613544,\n",
       " -0.9356066733729606,\n",
       " -0.9355990712303613,\n",
       " -0.9355812187955078,\n",
       " -0.9355812187955078,\n",
       " -0.9355328551208713,\n",
       " -0.9354263455591479,\n",
       " -0.9352047520299334,\n",
       " -0.9352029035985606,\n",
       " -0.9351998987306994,\n",
       " -0.935178029216551,\n",
       " -0.935154667147836,\n",
       " -0.9351029714275336,\n",
       " -0.9351029714275335,\n",
       " -0.9350697733970113,\n",
       " -0.9348911735691032,\n",
       " -0.9348737785714089,\n",
       " -0.9348737785714087,\n",
       " -0.9348737044150611,\n",
       " -0.9348274381027402,\n",
       " -0.9348252154949117,\n",
       " -0.9347751047175173,\n",
       " -0.9347335131402721,\n",
       " -0.9345158102124701,\n",
       " -0.9344559949397934,\n",
       " -0.9344220449246177,\n",
       " -0.9344220449246176,\n",
       " -0.9343395033474796,\n",
       " -0.9342802819763042,\n",
       " -0.9341447471584413,\n",
       " -0.9340418593187775,\n",
       " -0.9339821070071149,\n",
       " -0.9339821070071149,\n",
       " -0.9339777691703226,\n",
       " -0.9338435528238955,\n",
       " -0.9337894267205384,\n",
       " -0.9337050365923004,\n",
       " -0.9337050365923004,\n",
       " -0.933677417102829,\n",
       " -0.9335970502053851,\n",
       " -0.9332651501119269,\n",
       " -0.9331263989569796,\n",
       " -0.933124669223743,\n",
       " -0.933124669223743,\n",
       " -0.9330654347981675,\n",
       " -0.932995856084101,\n",
       " -0.9329869246052501,\n",
       " -0.9329572766204149,\n",
       " -0.9329458277062365,\n",
       " -0.9328124001121366,\n",
       " -0.9326971433310725,\n",
       " -0.9326658363432103,\n",
       " -0.932593935902089,\n",
       " -0.9324069527014494,\n",
       " -0.9322449096244719,\n",
       " -0.9322256733929897,\n",
       " -0.9320813126935821,\n",
       " -0.9320460933547927,\n",
       " -0.9320243820357001,\n",
       " -0.9319272092518436,\n",
       " -0.9318752985567723,\n",
       " -0.9318715538572313,\n",
       " -0.9318358281725099,\n",
       " -0.931797456880335,\n",
       " -0.9317324570204221,\n",
       " -0.9317133608385663,\n",
       " -0.9316952062673636,\n",
       " -0.9316952062673636,\n",
       " -0.9316180962203913,\n",
       " -0.931581695510782,\n",
       " -0.9315746807930931,\n",
       " -0.9315336122271467,\n",
       " -0.9314663045206956,\n",
       " -0.9313410386353657,\n",
       " -0.931319154304748,\n",
       " -0.9310985277862039,\n",
       " -0.9310457988866897,\n",
       " -0.9310092235901816,\n",
       " -0.9309851296381358,\n",
       " -0.930923796974498,\n",
       " -0.9307521654018387,\n",
       " -0.9307482178998145,\n",
       " -0.9305974592901776,\n",
       " -0.9305199580449117,\n",
       " -0.9304993623928097,\n",
       " -0.9304337499541978,\n",
       " -0.9303796064572305,\n",
       " -0.9302999929128358,\n",
       " -0.930223091785518,\n",
       " -0.9300631607484943,\n",
       " -0.930039157017951,\n",
       " -0.9297155133241852,\n",
       " -0.9297054240741135,\n",
       " -0.9296845270335882,\n",
       " -0.929663682622674,\n",
       " -0.9296583243500254,\n",
       " -0.9295934475655855,\n",
       " -0.929556608356694,\n",
       " -0.9295266198383029,\n",
       " -0.9293778341737697,\n",
       " -0.9293778341737697,\n",
       " -0.9292253327636458,\n",
       " -0.9292165185216831,\n",
       " -0.929216518521683,\n",
       " -0.9290740690247978,\n",
       " -0.9289797068968039,\n",
       " -0.9289422535704753,\n",
       " -0.9289259723286895,\n",
       " -0.9289178222029076,\n",
       " -0.9288648412581759,\n",
       " -0.9287337164641593,\n",
       " -0.9287310047890095,\n",
       " -0.9287179299846072,\n",
       " -0.9286823559825903,\n",
       " -0.9286004007730614,\n",
       " -0.9285772828230039,\n",
       " -0.9285542414082311,\n",
       " -0.9282680431853504,\n",
       " -0.928220201130547,\n",
       " -0.9280785207923434,\n",
       " -0.9280785207923434,\n",
       " -0.9280281227903321,\n",
       " -0.9280009349905988,\n",
       " -0.9278998868011733,\n",
       " -0.9278998868011733,\n",
       " -0.9278320914457894,\n",
       " -0.9278103368835049,\n",
       " -0.9277309710009581,\n",
       " -0.9276941218516216,\n",
       " -0.9276787643956619,\n",
       " -0.9276781493634526,\n",
       " -0.9276487852280205,\n",
       " -0.927512481181285,\n",
       " -0.9274930266456347,\n",
       " -0.9274257423778932,\n",
       " -0.927412783644928,\n",
       " -0.9273311187621673,\n",
       " -0.9272554444156714,\n",
       " -0.9271201475258541,\n",
       " -0.9270894271602209,\n",
       " -0.9270894271602209,\n",
       " -0.9270330924530499,\n",
       " -0.9270184697743646,\n",
       " -0.926985564638467,\n",
       " -0.9268843631454767,\n",
       " -0.9268041758076441,\n",
       " -0.9267410880531912,\n",
       " -0.9265835147913519,\n",
       " -0.9264560164278993,\n",
       " -0.926411742093322,\n",
       " -0.9263866980575864,\n",
       " -0.9263644624553692,\n",
       " -0.9263123804354495,\n",
       " -0.9262579282384449,\n",
       " -0.9261716663953787,\n",
       " -0.9261385586969031,\n",
       " -0.9260977577436986,\n",
       " -0.9260630587818258,\n",
       " -0.9260630587818257,\n",
       " -0.9259805298081192,\n",
       " -0.9259015197859543,\n",
       " -0.9259004060451264,\n",
       " -0.9258745936470772,\n",
       " -0.9257708569137458,\n",
       " -0.9255809973305877,\n",
       " -0.9255809973305877,\n",
       " -0.9255169206984833,\n",
       " -0.9252610064426007,\n",
       " -0.9251520695396085,\n",
       " -0.9251064544518642,\n",
       " -0.9251008345302135,\n",
       " -0.9249378231093544,\n",
       " -0.9248338343903125,\n",
       " -0.9247745955502366,\n",
       " -0.9247316448179211,\n",
       " -0.92467444217541,\n",
       " -0.9246445859384481,\n",
       " -0.9246308180830359,\n",
       " -0.9245318914767255,\n",
       " -0.9244850183327549,\n",
       " -0.9243957233502643,\n",
       " -0.9243569516360504,\n",
       " -0.9243415189324782,\n",
       " -0.9242404845614994,\n",
       " -0.9242404845614994,\n",
       " -0.9240046018125064,\n",
       " -0.9238505591713669,\n",
       " -0.9237876420740996,\n",
       " -0.923779422569181,\n",
       " -0.9236991604000362,\n",
       " -0.9236646898751741,\n",
       " -0.9236341488537162,\n",
       " -0.9236341488537161,\n",
       " -0.9235617818713232,\n",
       " -0.9234152015869026,\n",
       " -0.9232780603776529,\n",
       " -0.9230239692301927,\n",
       " -0.9228461777511215,\n",
       " -0.9228302975293045,\n",
       " -0.9228299531577012,\n",
       " -0.9227991682636166,\n",
       " -0.9227991682636166,\n",
       " -0.9227306345425064,\n",
       " -0.9226784625596189,\n",
       " -0.9226182152566832,\n",
       " -0.9225347502848726,\n",
       " -0.9224675617675306,\n",
       " -0.9224419812261733,\n",
       " -0.9224316250383426,\n",
       " -0.9224316250383425,\n",
       " -0.9222841772276714,\n",
       " -0.9222146584197429,\n",
       " -0.9221376803999533,\n",
       " -0.9221120271042627,\n",
       " -0.9218946828977969,\n",
       " -0.9218620540729279,\n",
       " -0.9218252494097113,\n",
       " -0.921784509000476,\n",
       " -0.9214925303686804,\n",
       " -0.921425008546868,\n",
       " -0.9213930912060831,\n",
       " -0.9213348037976361,\n",
       " -0.9209490558795727,\n",
       " -0.9208417269764929,\n",
       " -0.9207078699525619,\n",
       " -0.9206748084637423,\n",
       " -0.920641337974691,\n",
       " -0.9205181193751624,\n",
       " -0.9205181193751623,\n",
       " -0.9205172626573619,\n",
       " -0.9204317250451041,\n",
       " -0.9202853445635021,\n",
       " -0.920220979306213,\n",
       " -0.9201211445754247,\n",
       " -0.9201166589029234,\n",
       " -0.920098899362646,\n",
       " -0.920098899362646,\n",
       " -0.9200810854851633,\n",
       " -0.9200684804733106,\n",
       " -0.9200648811866656,\n",
       " -0.9199809129072933,\n",
       " -0.9199544951648722,\n",
       " -0.9199269775440356,\n",
       " -0.9198708034239543,\n",
       " -0.9198135724953682,\n",
       " -0.9197985150828657,\n",
       " -0.9196858254843021,\n",
       " -0.9196800766420872,\n",
       " -0.9195742666647666,\n",
       " -0.9194078910171508,\n",
       " -0.9194078910171508,\n",
       " -0.9194046673408499,\n",
       " -0.9192996671201477,\n",
       " -0.9192022082504758,\n",
       " -0.9191545076709399,\n",
       " -0.9191329164169506,\n",
       " -0.919116130900589,\n",
       " -0.9190837299433025,\n",
       " -0.9190432638744871,\n",
       " -0.9189089282516204,\n",
       " -0.9188711095004922,\n",
       " -0.9186139069912607,\n",
       " -0.9184139820850071,\n",
       " -0.9183462126590184,\n",
       " -0.9183280023830307,\n",
       " -0.9182841963701995,\n",
       " -0.9182742909672815,\n",
       " -0.9182685576136597,\n",
       " -0.9182685576136597,\n",
       " -0.9182599509219262,\n",
       " -0.9182599509219261,\n",
       " -0.9182480331257479,\n",
       " -0.9181546114734647,\n",
       " -0.9179785842616837,\n",
       " -0.9179785842616836,\n",
       " -0.9178684751658187,\n",
       " -0.917837212408391,\n",
       " -0.9178372124083909,\n",
       " -0.9178194381189181,\n",
       " -0.9178132018357693,\n",
       " -0.9178040575906183,\n",
       " -0.917779609739358,\n",
       " -0.9177139599891765,\n",
       " -0.9176302956592512,\n",
       " -0.9176302956592512,\n",
       " -0.917626938958345,\n",
       " -0.917530536343933,\n",
       " -0.9174760414129423,\n",
       " -0.9174754539473533,\n",
       " -0.9173975470110736,\n",
       " -0.9173906192968705,\n",
       " -0.9173702110571891,\n",
       " -0.9172501231421513,\n",
       " -0.917016034662735,\n",
       " -0.9169332839074933,\n",
       " -0.9168801714886244,\n",
       " -0.9167702789115696,\n",
       " -0.916648995228031,\n",
       " -0.9166429363678847,\n",
       " -0.9165219353231701,\n",
       " -0.9164695040991683,\n",
       " -0.916383568319953,\n",
       " -0.9163725656168982,\n",
       " -0.916318053119334,\n",
       " -0.9162946582726157,\n",
       " -0.916214664213494,\n",
       " -0.916212384457052,\n",
       " -0.9161180160042679,\n",
       " -0.9160637112101834,\n",
       " -0.9159726614196845,\n",
       " -0.9159298611655163,\n",
       " -0.9157606617188588,\n",
       " -0.9156380871167655,\n",
       " -0.9156106858730462,\n",
       " -0.915578100226013,\n",
       " -0.9152170114097915,\n",
       " -0.9151999396272231,\n",
       " -0.9151026856454898,\n",
       " -0.9150920071323166,\n",
       " -0.9150858271595298,\n",
       " -0.915079474987351,\n",
       " -0.9148181328347875,\n",
       " -0.914694717919741,\n",
       " -0.9146503897874559,\n",
       " -0.9146001654792625,\n",
       " -0.9145790257999304,\n",
       " -0.9144484807685879,\n",
       " -0.914438129089071,\n",
       " -0.9144124557820436,\n",
       " -0.9143263202939941,\n",
       " -0.9142751894369022,\n",
       " -0.9142730554423716,\n",
       " -0.9141828831940376,\n",
       " -0.91404678582834,\n",
       " -0.9140368451153233,\n",
       " -0.9139572226321897,\n",
       " -0.9139513091434612,\n",
       " -0.9138248256636149,\n",
       " -0.9137889448660522,\n",
       " -0.913771085551238,\n",
       " -0.9137702432143905,\n",
       " -0.9134777423927036,\n",
       " -0.9134570868057867,\n",
       " -0.9134213769183764,\n",
       " -0.9133034592367945,\n",
       " -0.913284146851823,\n",
       " -0.91319168763341,\n",
       " -0.9130724953918394,\n",
       " -0.9130575084049628,\n",
       " -0.9130164758939425,\n",
       " -0.9129622790649714,\n",
       " -0.9129011158614531,\n",
       " -0.9128691184612037,\n",
       " -0.9128667922648687,\n",
       " -0.9128197147963429,\n",
       " -0.9128043255233517,\n",
       " -0.9127573543562878,\n",
       " -0.9126873306478975,\n",
       " -0.9126441904218363,\n",
       " -0.9126230902414685,\n",
       " -0.912591773520748,\n",
       " -0.9125545688156966,\n",
       " -0.9125382906571604,\n",
       " -0.9125017216538123,\n",
       " -0.9125017216538123,\n",
       " -0.9124826260446379,\n",
       " -0.9124364013517009,\n",
       " -0.912413714259574,\n",
       " -0.9123877508098888,\n",
       " -0.9123830395119482,\n",
       " -0.9122117515434148,\n",
       " -0.9121377164941086,\n",
       " -0.912120419914598,\n",
       " -0.912120419914598,\n",
       " -0.912119665976928,\n",
       " -0.9120767519312906,\n",
       " -0.9120433433916085,\n",
       " -0.9119500867720038,\n",
       " -0.911888988293136,\n",
       " -0.9114796721004357,\n",
       " -0.9114679957883814,\n",
       " -0.9114595927688934,\n",
       " -0.9114210183126351,\n",
       " -0.9114129026089531,\n",
       " -0.9113489413572274,\n",
       " -0.9113046013443883,\n",
       " -0.9112388836076277,\n",
       " -0.9111193095607388,\n",
       " -0.9111157281870109,\n",
       " -0.9110815335333472,\n",
       " -0.9110781968043397,\n",
       " -0.9110602473040045,\n",
       " -0.9110512636759435,\n",
       " -0.9110512636759435,\n",
       " -0.9109041414760649,\n",
       " -0.9108704137525525,\n",
       " -0.9108551310216174,\n",
       " -0.9107958748373823,\n",
       " -0.9107579872431029,\n",
       " -0.9105725119426007,\n",
       " -0.9105617765437789,\n",
       " -0.9104819089773214,\n",
       " -0.9104819089773213,\n",
       " -0.9104403761963891,\n",
       " -0.910440376196389,\n",
       " -0.9104119686418564,\n",
       " -0.9103847572629257,\n",
       " -0.9102773307772313,\n",
       " -0.9102081556798598,\n",
       " -0.9102081556798598,\n",
       " -0.9102027231993508,\n",
       " -0.9101994337364732,\n",
       " -0.9101500354868871,\n",
       " -0.9101004224030597,\n",
       " -0.9100537137900212,\n",
       " -0.9099864486671827,\n",
       " -0.9099851730404074,\n",
       " -0.9099290578651942,\n",
       " -0.9098198232710378,\n",
       " -0.9097599301339774,\n",
       " -0.9095464158116326,\n",
       " -0.9094916736597944,\n",
       " -0.9094065135522611,\n",
       " -0.9094015050196026,\n",
       " -0.9093600520119358,\n",
       " -0.9093600520119357,\n",
       " -0.9093558898822749,\n",
       " -0.9093265585450091,\n",
       " -0.9092297639125395,\n",
       " -0.9090929723158256,\n",
       " -0.9090529286313065,\n",
       " -0.9090387695172564,\n",
       " -0.9088548265894234,\n",
       " -0.9087090531269412,\n",
       " -0.9086792839495034,\n",
       " -0.9086774753269986,\n",
       " -0.9086529059131434,\n",
       " -0.9085263685374909,\n",
       " -0.9084307483070792,\n",
       " -0.9083792884573461,\n",
       " -0.9083185515620731,\n",
       " -0.9083054175293459,\n",
       " -0.908284402643139,\n",
       " -0.9082364708965198,\n",
       " -0.9081296370096579,\n",
       " -0.9080696684736711,\n",
       " -0.9079864164459163,\n",
       " -0.9079505654291659,\n",
       " -0.9079505654291659,\n",
       " -0.9079057796968357,\n",
       " -0.9077124840352025,\n",
       " -0.9076895807163096,\n",
       " -0.9076734209404711,\n",
       " -0.9076564387257401,\n",
       " -0.9076337219861382,\n",
       " -0.907594465075228,\n",
       " -0.907594465075228,\n",
       " -0.9075388473739743,\n",
       " -0.9074933375783996,\n",
       " -0.9074696791557384,\n",
       " -0.9073616286584968,\n",
       " -0.9072745046410186,\n",
       " -0.9072528271762504,\n",
       " -0.9071231607712802,\n",
       " -0.9071009858179789,\n",
       " -0.9070830851367416,\n",
       " -0.9070258848245261,\n",
       " -0.9067628835018005,\n",
       " -0.9064232604018564,\n",
       " -0.9063710201759269,\n",
       " -0.9063664134148081,\n",
       " -0.9062756304866919,\n",
       " -0.9061039969137078,\n",
       " -0.905875635366362,\n",
       " -0.9058756353663618,\n",
       " -0.9058288924741327,\n",
       " -0.9057965169520031,\n",
       " -0.9056651005585841,\n",
       " -0.9056344081951155,\n",
       " -0.9055027145009901,\n",
       " -0.905431846024872,\n",
       " -0.9053873628668918,\n",
       " -0.9052927023693988,\n",
       " -0.9051814595866609,\n",
       " -0.9051729327280505,\n",
       " -0.9051108377372615,\n",
       " -0.9050783716749685,\n",
       " -0.9050542162374444,\n",
       " -0.9050102022403064,\n",
       " -0.9049584612152491,\n",
       " -0.9049584612152491,\n",
       " -0.9049144533694532,\n",
       " -0.9049132688951519,\n",
       " -0.9049053660523629,\n",
       " -0.9048420689802608,\n",
       " -0.9048311995489343,\n",
       " ...]"
      ]
     },
     "execution_count": 87,
     "metadata": {},
     "output_type": "execute_result"
    }
   ],
   "source": [
    "result = []\n",
    "for i in range(len(c)):\n",
    "    result.append(c[i][0][1])\n",
    "sorted(result)"
   ]
  },
  {
   "cell_type": "code",
   "execution_count": 88,
   "id": "d5cd1d9b",
   "metadata": {},
   "outputs": [],
   "source": [
    "newresult = [x for x in result if str(x) != 'nan']"
   ]
  },
  {
   "cell_type": "code",
   "execution_count": 89,
   "id": "855f7e12",
   "metadata": {},
   "outputs": [],
   "source": [
    "newresult_sorted = sorted(newresult)"
   ]
  },
  {
   "cell_type": "code",
   "execution_count": 90,
   "id": "75edd49b",
   "metadata": {},
   "outputs": [
    {
     "name": "stdout",
     "output_type": "stream",
     "text": [
      "Nearest number to 1 : 1.0\n"
     ]
    }
   ],
   "source": [
    "print(f\"Nearest number to 1 : {np.max(newresult_sorted[:-1])}\")"
   ]
  },
  {
   "cell_type": "code",
   "execution_count": 91,
   "id": "524617f8",
   "metadata": {},
   "outputs": [
    {
     "name": "stdout",
     "output_type": "stream",
     "text": [
      "Nearest number to -1 : -0.9952200431068523\n"
     ]
    }
   ],
   "source": [
    "print(f\"Nearest number to -1 : {np.min(newresult_sorted)}\")"
   ]
  },
  {
   "cell_type": "code",
   "execution_count": 92,
   "id": "d7f6a2fa",
   "metadata": {},
   "outputs": [
    {
     "name": "stdout",
     "output_type": "stream",
     "text": [
      "Nearest + number to 0 : -0.9730083803933929\n"
     ]
    }
   ],
   "source": [
    "print(f\"Nearest + number to 0 : {newresult_sorted[297]}\")"
   ]
  },
  {
   "cell_type": "code",
   "execution_count": 93,
   "id": "8ec7d01d",
   "metadata": {},
   "outputs": [
    {
     "name": "stdout",
     "output_type": "stream",
     "text": [
      "Nearest - number to 0 : -0.973008380393393\n"
     ]
    }
   ],
   "source": [
    "print(f\"Nearest - number to 0 : {newresult_sorted[296]}\")"
   ]
  },
  {
   "cell_type": "code",
   "execution_count": 94,
   "id": "77ddabe7",
   "metadata": {},
   "outputs": [
    {
     "ename": "KeyboardInterrupt",
     "evalue": "",
     "output_type": "error",
     "traceback": [
      "\u001b[0;31m---------------------------------------------------------------------------\u001b[0m",
      "\u001b[0;31mKeyboardInterrupt\u001b[0m                         Traceback (most recent call last)",
      "\u001b[0;32m/tmp/ipykernel_5799/1986476003.py\u001b[0m in \u001b[0;36m<module>\u001b[0;34m\u001b[0m\n\u001b[1;32m      2\u001b[0m     \u001b[0;32mif\u001b[0m \u001b[0mnp\u001b[0m\u001b[0;34m.\u001b[0m\u001b[0mmax\u001b[0m\u001b[0;34m(\u001b[0m\u001b[0mnewresult_sorted\u001b[0m\u001b[0;34m[\u001b[0m\u001b[0;34m:\u001b[0m\u001b[0;34m-\u001b[0m\u001b[0;36m1\u001b[0m\u001b[0;34m]\u001b[0m\u001b[0;34m)\u001b[0m \u001b[0;34m==\u001b[0m \u001b[0mc\u001b[0m\u001b[0;34m[\u001b[0m\u001b[0mi\u001b[0m\u001b[0;34m]\u001b[0m\u001b[0;34m[\u001b[0m\u001b[0;36m0\u001b[0m\u001b[0;34m]\u001b[0m\u001b[0;34m[\u001b[0m\u001b[0;36m1\u001b[0m\u001b[0;34m]\u001b[0m\u001b[0;34m:\u001b[0m\u001b[0;34m\u001b[0m\u001b[0;34m\u001b[0m\u001b[0m\n\u001b[1;32m      3\u001b[0m         \u001b[0mnearpositifone\u001b[0m \u001b[0;34m=\u001b[0m \u001b[0mi\u001b[0m\u001b[0;34m\u001b[0m\u001b[0;34m\u001b[0m\u001b[0m\n\u001b[0;32m----> 4\u001b[0;31m     \u001b[0;32melif\u001b[0m \u001b[0mnp\u001b[0m\u001b[0;34m.\u001b[0m\u001b[0mmin\u001b[0m\u001b[0;34m(\u001b[0m\u001b[0mnewresult_sorted\u001b[0m\u001b[0;34m)\u001b[0m \u001b[0;34m==\u001b[0m \u001b[0mc\u001b[0m\u001b[0;34m[\u001b[0m\u001b[0mi\u001b[0m\u001b[0;34m]\u001b[0m\u001b[0;34m[\u001b[0m\u001b[0;36m0\u001b[0m\u001b[0;34m]\u001b[0m\u001b[0;34m[\u001b[0m\u001b[0;36m1\u001b[0m\u001b[0;34m]\u001b[0m\u001b[0;34m:\u001b[0m\u001b[0;34m\u001b[0m\u001b[0;34m\u001b[0m\u001b[0m\n\u001b[0m\u001b[1;32m      5\u001b[0m         \u001b[0mnearminusone\u001b[0m \u001b[0;34m=\u001b[0m \u001b[0mi\u001b[0m\u001b[0;34m\u001b[0m\u001b[0;34m\u001b[0m\u001b[0m\n\u001b[1;32m      6\u001b[0m     \u001b[0;32melif\u001b[0m \u001b[0mnewresult_sorted\u001b[0m\u001b[0;34m[\u001b[0m\u001b[0;36m297\u001b[0m\u001b[0;34m]\u001b[0m \u001b[0;34m==\u001b[0m \u001b[0mc\u001b[0m\u001b[0;34m[\u001b[0m\u001b[0mi\u001b[0m\u001b[0;34m]\u001b[0m\u001b[0;34m[\u001b[0m\u001b[0;36m0\u001b[0m\u001b[0;34m]\u001b[0m\u001b[0;34m[\u001b[0m\u001b[0;36m1\u001b[0m\u001b[0;34m]\u001b[0m\u001b[0;34m:\u001b[0m\u001b[0;34m\u001b[0m\u001b[0;34m\u001b[0m\u001b[0m\n",
      "\u001b[0;32m<__array_function__ internals>\u001b[0m in \u001b[0;36mamin\u001b[0;34m(*args, **kwargs)\u001b[0m\n",
      "\u001b[0;32m~/.local/lib/python3.8/site-packages/numpy/core/fromnumeric.py\u001b[0m in \u001b[0;36mamin\u001b[0;34m(a, axis, out, keepdims, initial, where)\u001b[0m\n\u001b[1;32m   2828\u001b[0m     \u001b[0;36m6\u001b[0m\u001b[0;34m\u001b[0m\u001b[0;34m\u001b[0m\u001b[0m\n\u001b[1;32m   2829\u001b[0m     \"\"\"\n\u001b[0;32m-> 2830\u001b[0;31m     return _wrapreduction(a, np.minimum, 'min', axis, None, out,\n\u001b[0m\u001b[1;32m   2831\u001b[0m                           keepdims=keepdims, initial=initial, where=where)\n\u001b[1;32m   2832\u001b[0m \u001b[0;34m\u001b[0m\u001b[0m\n",
      "\u001b[0;32m~/.local/lib/python3.8/site-packages/numpy/core/fromnumeric.py\u001b[0m in \u001b[0;36m_wrapreduction\u001b[0;34m(obj, ufunc, method, axis, dtype, out, **kwargs)\u001b[0m\n\u001b[1;32m     85\u001b[0m                 \u001b[0;32mreturn\u001b[0m \u001b[0mreduction\u001b[0m\u001b[0;34m(\u001b[0m\u001b[0maxis\u001b[0m\u001b[0;34m=\u001b[0m\u001b[0maxis\u001b[0m\u001b[0;34m,\u001b[0m \u001b[0mout\u001b[0m\u001b[0;34m=\u001b[0m\u001b[0mout\u001b[0m\u001b[0;34m,\u001b[0m \u001b[0;34m**\u001b[0m\u001b[0mpasskwargs\u001b[0m\u001b[0;34m)\u001b[0m\u001b[0;34m\u001b[0m\u001b[0;34m\u001b[0m\u001b[0m\n\u001b[1;32m     86\u001b[0m \u001b[0;34m\u001b[0m\u001b[0m\n\u001b[0;32m---> 87\u001b[0;31m     \u001b[0;32mreturn\u001b[0m \u001b[0mufunc\u001b[0m\u001b[0;34m.\u001b[0m\u001b[0mreduce\u001b[0m\u001b[0;34m(\u001b[0m\u001b[0mobj\u001b[0m\u001b[0;34m,\u001b[0m \u001b[0maxis\u001b[0m\u001b[0;34m,\u001b[0m \u001b[0mdtype\u001b[0m\u001b[0;34m,\u001b[0m \u001b[0mout\u001b[0m\u001b[0;34m,\u001b[0m \u001b[0;34m**\u001b[0m\u001b[0mpasskwargs\u001b[0m\u001b[0;34m)\u001b[0m\u001b[0;34m\u001b[0m\u001b[0;34m\u001b[0m\u001b[0m\n\u001b[0m\u001b[1;32m     88\u001b[0m \u001b[0;34m\u001b[0m\u001b[0m\n\u001b[1;32m     89\u001b[0m \u001b[0;34m\u001b[0m\u001b[0m\n",
      "\u001b[0;31mKeyboardInterrupt\u001b[0m: "
     ]
    }
   ],
   "source": [
    "for i in range(len(result)):\n",
    "    if np.max(newresult_sorted[:-1]) == c[i][0][1]:\n",
    "        nearpositifone = i\n",
    "    elif np.min(newresult_sorted) == c[i][0][1]:\n",
    "        nearminusone = i\n",
    "    elif newresult_sorted[297] == c[i][0][1]:\n",
    "        nearpositifzero = i\n",
    "    elif newresult_sorted[296] == c[i][0][1]:\n",
    "        nearnegatifzero = i"
   ]
  },
  {
   "cell_type": "code",
   "execution_count": null,
   "id": "64fe6e11",
   "metadata": {},
   "outputs": [],
   "source": [
    "def find_closest_index(a, x):\n",
    "    i = bisect.bisect_left(a, x)\n",
    "    if i >= len(a):\n",
    "        i = len(a) - 1\n",
    "    elif i and a[i] - x > x - a[i - 1]:\n",
    "        i = i - 1\n",
    "    return (i, a[i])\n"
   ]
  },
  {
   "cell_type": "code",
   "execution_count": null,
   "id": "57c7fbea",
   "metadata": {},
   "outputs": [],
   "source": [
    "print(find_closest_index(newresult_sorted, 0))"
   ]
  },
  {
   "cell_type": "code",
   "execution_count": null,
   "id": "1d92ca2a",
   "metadata": {},
   "outputs": [],
   "source": [
    "print(nearpositifone)\n",
    "print(nearminusone)\n",
    "print(nearpositifzero)\n",
    "print(nearnegatifzero)"
   ]
  },
  {
   "cell_type": "code",
   "execution_count": null,
   "id": "1fe6b9f3",
   "metadata": {},
   "outputs": [],
   "source": [
    "c[227]"
   ]
  },
  {
   "cell_type": "code",
   "execution_count": 44,
   "id": "f819136e",
   "metadata": {},
   "outputs": [
    {
     "data": {
      "text/plain": [
       "[<matplotlib.lines.Line2D at 0x7f41f8740400>]"
      ]
     },
     "execution_count": 44,
     "metadata": {},
     "output_type": "execute_result"
    },
    {
     "data": {
      "image/png": "[encoded data removed]",
      "text/plain": [
       "<Figure size 432x288 with 1 Axes>"
      ]
     },
     "metadata": {
      "needs_background": "light"
     },
     "output_type": "display_data"
    }
   ],
   "source": [
    "plt.plot(f[227])\n",
    "plt.plot(f[58])"
   ]
  },
  {
   "cell_type": "code",
   "execution_count": 45,
   "id": "ef9b8226",
   "metadata": {},
   "outputs": [
    {
     "data": {
      "text/plain": [
       "[<matplotlib.lines.Line2D at 0x7f41f8724fa0>]"
      ]
     },
     "execution_count": 45,
     "metadata": {},
     "output_type": "execute_result"
    },
    {
     "data": {
      "image/png": "[encoded data removed]",
      "text/plain": [
       "<Figure size 432x288 with 1 Axes>"
      ]
     },
     "metadata": {
      "needs_background": "light"
     },
     "output_type": "display_data"
    }
   ],
   "source": [
    "plt.plot(f[253])\n",
    "plt.plot(f[280])"
   ]
  },
  {
   "cell_type": "code",
   "execution_count": 50,
   "id": "f8ca7eef",
   "metadata": {},
   "outputs": [
    {
     "ename": "ValueError",
     "evalue": "The truth value of an array with more than one element is ambiguous. Use a.any() or a.all()",
     "output_type": "error",
     "traceback": [
      "\u001b[0;31m---------------------------------------------------------------------------\u001b[0m",
      "\u001b[0;31mValueError\u001b[0m                                Traceback (most recent call last)",
      "\u001b[0;32m/tmp/ipykernel_5799/2969267974.py\u001b[0m in \u001b[0;36m<module>\u001b[0;34m\u001b[0m\n\u001b[1;32m      1\u001b[0m \u001b[0;32mfor\u001b[0m \u001b[0mi\u001b[0m \u001b[0;32min\u001b[0m \u001b[0mrange\u001b[0m\u001b[0;34m(\u001b[0m\u001b[0mlen\u001b[0m\u001b[0;34m(\u001b[0m\u001b[0mf\u001b[0m\u001b[0;34m)\u001b[0m\u001b[0;34m)\u001b[0m\u001b[0;34m:\u001b[0m\u001b[0;34m\u001b[0m\u001b[0;34m\u001b[0m\u001b[0m\n\u001b[1;32m      2\u001b[0m     \u001b[0;32mfor\u001b[0m \u001b[0mj\u001b[0m \u001b[0;32min\u001b[0m \u001b[0mrange\u001b[0m\u001b[0;34m(\u001b[0m\u001b[0mlen\u001b[0m\u001b[0;34m(\u001b[0m\u001b[0mf\u001b[0m\u001b[0;34m)\u001b[0m\u001b[0;34m)\u001b[0m\u001b[0;34m:\u001b[0m\u001b[0;34m\u001b[0m\u001b[0;34m\u001b[0m\u001b[0m\n\u001b[0;32m----> 3\u001b[0;31m         \u001b[0;32mif\u001b[0m \u001b[0mc\u001b[0m\u001b[0;34m[\u001b[0m\u001b[0;36m227\u001b[0m\u001b[0;34m]\u001b[0m \u001b[0;34m==\u001b[0m \u001b[0mnp\u001b[0m\u001b[0;34m.\u001b[0m\u001b[0mcorrcoef\u001b[0m\u001b[0;34m(\u001b[0m\u001b[0mf\u001b[0m\u001b[0;34m[\u001b[0m\u001b[0mi\u001b[0m\u001b[0;34m]\u001b[0m\u001b[0;34m,\u001b[0m\u001b[0mf\u001b[0m\u001b[0;34m[\u001b[0m\u001b[0mj\u001b[0m\u001b[0;34m]\u001b[0m\u001b[0;34m)\u001b[0m\u001b[0;34m:\u001b[0m\u001b[0;34m\u001b[0m\u001b[0;34m\u001b[0m\u001b[0m\n\u001b[0m\u001b[1;32m      4\u001b[0m             \u001b[0mprint\u001b[0m\u001b[0;34m(\u001b[0m\u001b[0mi\u001b[0m\u001b[0;34m)\u001b[0m\u001b[0;34m\u001b[0m\u001b[0;34m\u001b[0m\u001b[0m\n\u001b[1;32m      5\u001b[0m             \u001b[0mprint\u001b[0m\u001b[0;34m(\u001b[0m\u001b[0mj\u001b[0m\u001b[0;34m)\u001b[0m\u001b[0;34m\u001b[0m\u001b[0;34m\u001b[0m\u001b[0m\n",
      "\u001b[0;31mValueError\u001b[0m: The truth value of an array with more than one element is ambiguous. Use a.any() or a.all()"
     ]
    }
   ],
   "source": [
    "for i in range(len(f)):\n",
    "    for j in range(len(f)):\n",
    "        if c[227] == np.corrcoef(f[i],f[j]):\n",
    "            print(i)\n",
    "            print(j)"
   ]
  },
  {
   "cell_type": "code",
   "execution_count": 51,
   "id": "65a33e0d",
   "metadata": {},
   "outputs": [
    {
     "data": {
      "text/plain": [
       "array([[1.        , 0.84083392],\n",
       "       [0.84083392, 1.        ]])"
      ]
     },
     "execution_count": 51,
     "metadata": {},
     "output_type": "execute_result"
    }
   ],
   "source": [
    "c[227]"
   ]
  },
  {
   "cell_type": "code",
   "execution_count": 52,
   "id": "a1a80419",
   "metadata": {},
   "outputs": [
    {
     "data": {
      "text/plain": [
       "array([[1., 1.],\n",
       "       [1., 1.]])"
      ]
     },
     "execution_count": 52,
     "metadata": {},
     "output_type": "execute_result"
    }
   ],
   "source": [
    "np.corrcoef(f[1],f[1])"
   ]
  },
  {
   "cell_type": "code",
   "execution_count": 57,
   "id": "742ba804",
   "metadata": {},
   "outputs": [
    {
     "name": "stdout",
     "output_type": "stream",
     "text": [
      "[[ True False]\n",
      " [False False]]\n"
     ]
    }
   ],
   "source": [
    "print(c[227] == np.corrcoef(f[1],f[1]))"
   ]
  },
  {
   "cell_type": "code",
   "execution_count": 68,
   "id": "72a32cf5",
   "metadata": {},
   "outputs": [
    {
     "name": "stdout",
     "output_type": "stream",
     "text": [
      "0\n",
      "58\n",
      "0\n",
      "227\n",
      "0\n",
      "253\n",
      "0\n",
      "280\n",
      "253\n",
      "0\n"
     ]
    }
   ],
   "source": [
    "for i in range(len(f)):\n",
    "    for j in range(len(f)):\n",
    "        p = np.corrcoef(f[i],f[j])\n",
    "        if c[227][0][1] == p[0][1]:\n",
    "            print(i)\n",
    "            print(j)\n",
    "        elif c[280][0][1] == p[0][1]:\n",
    "            print(i)\n",
    "            print(j)\n",
    "        elif c[58][0][1] == p[0][1]:\n",
    "            print(i)\n",
    "            print(j)\n",
    "        elif c[253][0][1] == p[0][1]:\n",
    "            print(i)\n",
    "            print(j)"
   ]
  },
  {
   "cell_type": "code",
   "execution_count": 75,
   "id": "548ca407",
   "metadata": {},
   "outputs": [
    {
     "data": {
      "text/plain": [
       "array([[1.        , 0.84083392],\n",
       "       [0.84083392, 1.        ]])"
      ]
     },
     "execution_count": 75,
     "metadata": {},
     "output_type": "execute_result"
    }
   ],
   "source": [
    "np.corrcoef(f[0],f[227])"
   ]
  },
  {
   "cell_type": "code",
   "execution_count": 76,
   "id": "6387372a",
   "metadata": {},
   "outputs": [
    {
     "data": {
      "text/plain": [
       "array([[ 1.        , -0.78349973],\n",
       "       [-0.78349973,  1.        ]])"
      ]
     },
     "execution_count": 76,
     "metadata": {},
     "output_type": "execute_result"
    }
   ],
   "source": [
    "np.corrcoef(f[0],f[280])"
   ]
  },
  {
   "cell_type": "code",
   "execution_count": 77,
   "id": "1331b8f9",
   "metadata": {},
   "outputs": [
    {
     "data": {
      "text/plain": [
       "array([[ 1.        , -0.00853546],\n",
       "       [-0.00853546,  1.        ]])"
      ]
     },
     "execution_count": 77,
     "metadata": {},
     "output_type": "execute_result"
    }
   ],
   "source": [
    "np.corrcoef(f[253],f[0])"
   ]
  },
  {
   "cell_type": "code",
   "execution_count": 81,
   "id": "1faf96ec",
   "metadata": {},
   "outputs": [
    {
     "data": {
      "text/plain": [
       "array([[1.00000000e+00, 3.93662113e-04],\n",
       "       [3.93662113e-04, 1.00000000e+00]])"
      ]
     },
     "execution_count": 81,
     "metadata": {},
     "output_type": "execute_result"
    }
   ],
   "source": [
    "np.corrcoef(f[0],f[58])"
   ]
  },
  {
   "cell_type": "code",
   "execution_count": 82,
   "id": "7b2a2ecf",
   "metadata": {},
   "outputs": [
    {
     "data": {
      "text/plain": [
       "[<matplotlib.lines.Line2D at 0x7f41f8696c40>]"
      ]
     },
     "execution_count": 82,
     "metadata": {},
     "output_type": "execute_result"
    },
    {
     "data": {
      "image/png": "[encoded data removed]",
      "text/plain": [
       "<Figure size 432x288 with 1 Axes>"
      ]
     },
     "metadata": {
      "needs_background": "light"
     },
     "output_type": "display_data"
    }
   ],
   "source": [
    "plt.plot(f[0])\n",
    "plt.plot(f[227])"
   ]
  },
  {
   "cell_type": "code",
   "execution_count": 83,
   "id": "5f66e096",
   "metadata": {},
   "outputs": [
    {
     "data": {
      "text/plain": [
       "[<matplotlib.lines.Line2D at 0x7f41f86032b0>]"
      ]
     },
     "execution_count": 83,
     "metadata": {},
     "output_type": "execute_result"
    },
    {
     "data": {
      "image/png": "[encoded data removed]",
      "text/plain": [
       "<Figure size 432x288 with 1 Axes>"
      ]
     },
     "metadata": {
      "needs_background": "light"
     },
     "output_type": "display_data"
    }
   ],
   "source": [
    "plt.plot(f[0])\n",
    "plt.plot(f[280])"
   ]
  },
  {
   "cell_type": "code",
   "execution_count": 84,
   "id": "4fb5ad5c",
   "metadata": {},
   "outputs": [
    {
     "data": {
      "text/plain": [
       "[<matplotlib.lines.Line2D at 0x7f41f85e49d0>]"
      ]
     },
     "execution_count": 84,
     "metadata": {},
     "output_type": "execute_result"
    },
    {
     "data": {
      "image/png": "[encoded data removed]",
      "text/plain": [
       "<Figure size 432x288 with 1 Axes>"
      ]
     },
     "metadata": {
      "needs_background": "light"
     },
     "output_type": "display_data"
    }
   ],
   "source": [
    "plt.plot(f[253])\n",
    "plt.plot(f[0])"
   ]
  },
  {
   "cell_type": "code",
   "execution_count": 85,
   "id": "e2eb40f7",
   "metadata": {},
   "outputs": [
    {
     "data": {
      "text/plain": [
       "[<matplotlib.lines.Line2D at 0x7f41f85521f0>]"
      ]
     },
     "execution_count": 85,
     "metadata": {},
     "output_type": "execute_result"
    },
    {
     "data": {
      "image/png": "[encoded data removed]",
      "text/plain": [
       "<Figure size 432x288 with 1 Axes>"
      ]
     },
     "metadata": {
      "needs_background": "light"
     },
     "output_type": "display_data"
    }
   ],
   "source": [
    "plt.plot(f[0])\n",
    "plt.plot(f[58])"
   ]
  },
  {
   "cell_type": "code",
   "execution_count": null,
   "id": "593da276",
   "metadata": {},
   "outputs": [],
   "source": []
  }
 ],
 "metadata": {
  "interpreter": {
   "hash": "916dbcbb3f70747c44a77c7bcd40155683ae19c65e1c03b4aa3499c5328201f1"
  },
  "kernelspec": {
   "display_name": "Python 3 (ipykernel)",
   "language": "python",
   "name": "python3"
  },
  "language_info": {
   "codemirror_mode": {
    "name": "ipython",
    "version": 3
   },
   "file_extension": ".py",
   "mimetype": "text/x-python",
   "name": "python",
   "nbconvert_exporter": "python",
   "pygments_lexer": "ipython3",
   "version": "3.8.10"
  }
 },
 "nbformat": 4,
 "nbformat_minor": 5
}
