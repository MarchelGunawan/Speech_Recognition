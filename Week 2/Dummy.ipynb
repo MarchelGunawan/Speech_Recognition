{
 "cells": [
  {
   "cell_type": "code",
   "execution_count": 7,
   "id": "78edf953",
   "metadata": {},
   "outputs": [],
   "source": [
    "import numpy as np\n",
    "from numpy.testing import assert_almost_equal"
   ]
  },
  {
   "cell_type": "code",
   "execution_count": 18,
   "id": "89b3a9bf",
   "metadata": {},
   "outputs": [],
   "source": [
    "arr = np.array([1,2.33333,3,6,1,67])"
   ]
  },
  {
   "cell_type": "code",
   "execution_count": 19,
   "id": "640a168c",
   "metadata": {},
   "outputs": [
    {
     "name": "stdout",
     "output_type": "stream",
     "text": [
      "[ 1.       2.33333  3.       6.       1.      67.     ]\n"
     ]
    }
   ],
   "source": [
    "print(arr)"
   ]
  },
  {
   "cell_type": "code",
   "execution_count": 20,
   "id": "51899a6c",
   "metadata": {},
   "outputs": [],
   "source": [
    "arr2 = np.array([1,2.33334,4,5,7,1])"
   ]
  },
  {
   "cell_type": "code",
   "execution_count": 21,
   "id": "70c39c08",
   "metadata": {},
   "outputs": [
    {
     "name": "stdout",
     "output_type": "stream",
     "text": [
      "[1.      2.33334 4.      5.      7.      1.     ]\n"
     ]
    }
   ],
   "source": [
    "print(arr2)"
   ]
  },
  {
   "cell_type": "code",
   "execution_count": 22,
   "id": "31b33ef5",
   "metadata": {},
   "outputs": [
    {
     "data": {
      "text/plain": [
       "array([ 24.33331   ,  42.66665   ,  69.66666   , 122.44445222,\n",
       "       507.33335   , 356.00004   ])"
      ]
     },
     "execution_count": 22,
     "metadata": {},
     "output_type": "execute_result"
    }
   ],
   "source": [
    "np.correlate(arr,arr2,\"same\")"
   ]
  },
  {
   "cell_type": "code",
   "execution_count": null,
   "id": "2e175682",
   "metadata": {},
   "outputs": [],
   "source": []
  }
 ],
 "metadata": {
  "kernelspec": {
   "display_name": "Python 3 (ipykernel)",
   "language": "python",
   "name": "python3"
  },
  "language_info": {
   "codemirror_mode": {
    "name": "ipython",
    "version": 3
   },
   "file_extension": ".py",
   "mimetype": "text/x-python",
   "name": "python",
   "nbconvert_exporter": "python",
   "pygments_lexer": "ipython3",
   "version": "3.8.10"
  }
 },
 "nbformat": 4,
 "nbformat_minor": 5
}
