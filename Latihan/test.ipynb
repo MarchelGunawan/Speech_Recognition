{
 "cells": [
  {
   "cell_type": "code",
   "execution_count": 52,
   "metadata": {},
   "outputs": [],
   "source": [
    "from pydub import AudioSegment\n",
    "from pydub.silence import split_on_silence"
   ]
  },
  {
   "cell_type": "code",
   "execution_count": 53,
   "metadata": {},
   "outputs": [],
   "source": [
    "def match_target_amplitude(aChunk, target_dBFS):\n",
    "    ''' Normalize given audio chunk '''\n",
    "    change_in_dBFS = target_dBFS - aChunk.dBFS\n",
    "    return aChunk.apply_gain(change_in_dBFS)"
   ]
  },
  {
   "cell_type": "code",
   "execution_count": 54,
   "metadata": {},
   "outputs": [],
   "source": [
    "song = AudioSegment.from_wav(\"Test.wav\")"
   ]
  },
  {
   "cell_type": "code",
   "execution_count": 55,
   "metadata": {},
   "outputs": [],
   "source": [
    "chunks = split_on_silence (\n",
    "    # Use the loaded audio.\n",
    "    song,\n",
    "    min_silence_len = 2000,\n",
    "    # Consider a chunk silent if it's quieter than -16 dBFS.\n",
    "    # (You may want to adjust this parameter.)\n",
    "    silence_thresh = -22\n",
    ")"
   ]
  },
  {
   "cell_type": "code",
   "execution_count": 56,
   "metadata": {},
   "outputs": [
    {
     "name": "stdout",
     "output_type": "stream",
     "text": [
      "Exporting chunk0.wav.\n",
      "Exporting chunk1.wav.\n"
     ]
    }
   ],
   "source": [
    "for i, chunk in enumerate(chunks):\n",
    "    # Create a silence chunk that's 0.5 seconds (or 500 ms) long for padding.\n",
    "    #silence_chunk = AudioSegment.silent(duration=500)\n",
    "\n",
    "    # Add the padding chunk to beginning and end of the entire chunk.\n",
    "    audio_chunk = silence_chunk + chunk + silence_chunk\n",
    "\n",
    "    # Normalize the entire chunk.\n",
    "    normalized_chunk = match_target_amplitude(audio_chunk, -20.0)\n",
    "\n",
    "    # Export the audio chunk with new bitrate.\n",
    "    filename = f'splitaudio/chunk{i}.wav'\n",
    "    print(\"Exporting chunk{0}.wav.\".format(i))\n",
    "    normalized_chunk.export(\n",
    "        filename,\n",
    "        bitrate = \"16k\",\n",
    "        format = \"wav\"\n",
    "    )"
   ]
  },
  {
   "cell_type": "code",
   "execution_count": 57,
   "metadata": {},
   "outputs": [],
   "source": [
    "import os\n",
    "import glob"
   ]
  },
  {
   "cell_type": "code",
   "execution_count": 58,
   "metadata": {},
   "outputs": [],
   "source": [
    "if not os.path.isdir(\"audio\"):\n",
    "    os.mkdir(\"audio\")"
   ]
  },
  {
   "cell_type": "code",
   "execution_count": 59,
   "metadata": {},
   "outputs": [
    {
     "name": "stdout",
     "output_type": "stream",
     "text": [
      "['./splitaudio/chunk0.wav', './splitaudio/chunk1.wav']\n"
     ]
    }
   ],
   "source": [
    "wavfiles  = glob.glob(\"./splitaudio/*.wav\")\n",
    "print(wavfiles)"
   ]
  },
  {
   "cell_type": "code",
   "execution_count": 60,
   "metadata": {},
   "outputs": [],
   "source": [
    "wavs = [AudioSegment.from_wav(wav) for wav in wavfiles]"
   ]
  },
  {
   "cell_type": "code",
   "execution_count": 61,
   "metadata": {},
   "outputs": [
    {
     "data": {
      "text/plain": [
       "<_io.BufferedRandom name='./audio/Mergedaudio.wav'>"
      ]
     },
     "execution_count": 61,
     "metadata": {},
     "output_type": "execute_result"
    }
   ],
   "source": [
    "combined = wavs[0]\n",
    "\n",
    "# Appending all the audio file\n",
    "for wav in wavs[1:]:\n",
    "    combined = combined.append(wav)\n",
    "\n",
    "# Export Merged Audio File\n",
    "combined.export(\"./audio/Mergedaudio.wav\", format=\"wav\")"
   ]
  },
  {
   "cell_type": "code",
   "execution_count": 62,
   "metadata": {},
   "outputs": [],
   "source": [
    "import numpy as np\n",
    "import matplotlib.pyplot as plt"
   ]
  },
  {
   "cell_type": "code",
   "execution_count": 63,
   "metadata": {},
   "outputs": [],
   "source": [
    "sound= AudioSegment.from_wav('audio/Mergedaudio.wav')\n",
    "x = np.array(song.get_array_of_samples())"
   ]
  },
  {
   "cell_type": "code",
   "execution_count": 64,
   "metadata": {},
   "outputs": [
    {
     "data": {
      "image/png": "[encoded data removed]",
      "text/plain": [
       "<Figure size 432x288 with 1 Axes>"
      ]
     },
     "metadata": {
      "needs_background": "light"
     },
     "output_type": "display_data"
    }
   ],
   "source": [
    "plt.plot(x)\n",
    "plt.show()"
   ]
  },
  {
   "cell_type": "code",
   "execution_count": 65,
   "metadata": {},
   "outputs": [
    {
     "data": {
      "text/plain": [
       "2159"
      ]
     },
     "execution_count": 65,
     "metadata": {},
     "output_type": "execute_result"
    }
   ],
   "source": [
    "f = []\n",
    "w = 256\n",
    "for i in range(round(len(x)/w)-1):\n",
    "    f.append(x[i*w:(i+1)*w-1])\n",
    "len(f)"
   ]
  },
  {
   "cell_type": "code",
   "execution_count": 66,
   "metadata": {},
   "outputs": [],
   "source": [
    "another = AudioSegment.from_wav('Test.wav')\n",
    "a = np.array(another.get_array_of_samples())"
   ]
  },
  {
   "cell_type": "code",
   "execution_count": 67,
   "metadata": {},
   "outputs": [
    {
     "data": {
      "text/plain": [
       "2159"
      ]
     },
     "execution_count": 67,
     "metadata": {},
     "output_type": "execute_result"
    }
   ],
   "source": [
    "f = []\n",
    "w = 256\n",
    "for i in range(round(len(a)/w)-1):\n",
    "    f.append(a[i*w:(i+1)*w-1])\n",
    "len(f)"
   ]
  }
 ],
 "metadata": {
  "interpreter": {
   "hash": "916dbcbb3f70747c44a77c7bcd40155683ae19c65e1c03b4aa3499c5328201f1"
  },
  "kernelspec": {
   "display_name": "Python 3.8.10 64-bit",
   "name": "python3"
  },
  "language_info": {
   "codemirror_mode": {
    "name": "ipython",
    "version": 3
   },
   "file_extension": ".py",
   "mimetype": "text/x-python",
   "name": "python",
   "nbconvert_exporter": "python",
   "pygments_lexer": "ipython3",
   "version": "3.8.10"
  },
  "orig_nbformat": 4
 },
 "nbformat": 4,
 "nbformat_minor": 2
}
