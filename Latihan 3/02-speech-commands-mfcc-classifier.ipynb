{
 "cells": [
  {
   "cell_type": "code",
   "execution_count": 97,
   "metadata": {},
   "outputs": [],
   "source": [
    "from os import listdir\n",
    "from os.path import isdir, join\n",
    "from tensorflow.keras import layers, models\n",
    "import numpy as np"
   ]
  },
  {
   "cell_type": "code",
   "execution_count": 98,
   "metadata": {},
   "outputs": [
    {
     "name": "stdout",
     "output_type": "stream",
     "text": [
      "['Bom Kanan', 'Bom Kiri', 'Hidup', 'Jalan Kanan', 'Jalan Kiri', 'Lompat', 'Melompat Kanan', 'Melompat Kiri', 'Nunduk', 'Tembak Atas', 'Tembak Kanan', 'Tembak Kiri', 'Tembak Nunduk']\n"
     ]
    }
   ],
   "source": [
    "# Create list of all targets (minus background noise)\n",
    "dataset_path = 'Rec'\n",
    "all_targets = all_targets = [name for name in listdir(dataset_path) if isdir(join(dataset_path, name))]\n",
    "print(all_targets)"
   ]
  },
  {
   "cell_type": "code",
   "execution_count": 99,
   "metadata": {},
   "outputs": [],
   "source": [
    "# Settings\n",
    "# feature_sets_path = 'C:\\\\PATH\\\\TO\\\\feature_sets_directory'\n",
    "feature_sets_filename = 'all_targets_mfcc_sets.npz'\n",
    "model_filename = 'wake_word_stop_model.h5'\n",
    "wake_word = 'Tembak Kanan'"
   ]
  },
  {
   "cell_type": "code",
   "execution_count": 100,
   "metadata": {},
   "outputs": [
    {
     "name": "stdout",
     "output_type": "stream",
     "text": [
      "['x_train', 'y_train', 'x_val', 'y_val', 'x_test', 'y_test']\n"
     ]
    }
   ],
   "source": [
    "# Load feature sets\n",
    "feature_sets = np.load(join(feature_sets_filename))\n",
    "print(feature_sets.files)"
   ]
  },
  {
   "cell_type": "code",
   "execution_count": 101,
   "metadata": {},
   "outputs": [],
   "source": [
    "# Assign feature sets\n",
    "x_train = feature_sets['x_train']\n",
    "y_train = feature_sets['y_train']\n",
    "x_val = feature_sets['x_val']\n",
    "y_val = feature_sets['y_val']\n",
    "x_test = feature_sets['x_test']\n",
    "y_test = feature_sets['y_test']"
   ]
  },
  {
   "cell_type": "code",
   "execution_count": 102,
   "metadata": {},
   "outputs": [
    {
     "name": "stdout",
     "output_type": "stream",
     "text": [
      "(1, 26, 96)\n",
      "(19, 26, 96)\n",
      "(19, 26, 96)\n"
     ]
    }
   ],
   "source": [
    "# Look at tensor dimensions\n",
    "print(x_train.shape)\n",
    "print(x_val.shape)\n",
    "print(x_test.shape)"
   ]
  },
  {
   "cell_type": "code",
   "execution_count": 103,
   "metadata": {},
   "outputs": [
    {
     "name": "stdout",
     "output_type": "stream",
     "text": [
      "[12. 11.  4.  7.  3.  2.  0.  2.  1. 10.  1.  7. 12.  5.  3.  0.  8. 11.\n",
      "  2.]\n"
     ]
    }
   ],
   "source": [
    "# Peek at labels\n",
    "print(y_val)"
   ]
  },
  {
   "cell_type": "code",
   "execution_count": 104,
   "metadata": {},
   "outputs": [],
   "source": [
    "# Convert ground truth arrays to one wake word (1) and 'other' (0)\n",
    "wake_word_index = all_targets.index(wake_word)\n",
    "y_train = np.equal(y_train, wake_word_index).astype('float64')\n",
    "y_val = np.equal(y_val, wake_word_index).astype('float64')\n",
    "y_test = np.equal(y_test, wake_word_index).astype('float64')"
   ]
  },
  {
   "cell_type": "code",
   "execution_count": 105,
   "metadata": {},
   "outputs": [
    {
     "name": "stdout",
     "output_type": "stream",
     "text": [
      "[0. 0. 0. 0. 0. 0. 0. 0. 0. 1. 0. 0. 0. 0. 0. 0. 0. 0. 0.]\n"
     ]
    }
   ],
   "source": [
    "# Peek at labels after conversion\n",
    "print(y_val)"
   ]
  },
  {
   "cell_type": "code",
   "execution_count": 106,
   "metadata": {},
   "outputs": [
    {
     "name": "stdout",
     "output_type": "stream",
     "text": [
      "0.05263157894736842\n",
      "0.9473684210526316\n"
     ]
    }
   ],
   "source": [
    "# What percentage of 'stop' appear in validation labels\n",
    "print(sum(y_val) / len(y_val))\n",
    "print(1 - sum(y_val) / len(y_val))"
   ]
  },
  {
   "cell_type": "code",
   "execution_count": 107,
   "metadata": {},
   "outputs": [
    {
     "name": "stdout",
     "output_type": "stream",
     "text": [
      "(1, 26, 96)\n"
     ]
    }
   ],
   "source": [
    "# View the dimensions of our input data\n",
    "print(x_train.shape)"
   ]
  },
  {
   "cell_type": "code",
   "execution_count": 108,
   "metadata": {},
   "outputs": [
    {
     "name": "stdout",
     "output_type": "stream",
     "text": [
      "(1, 26, 96, 1)\n",
      "(19, 26, 96, 1)\n",
      "(19, 26, 96, 1)\n"
     ]
    }
   ],
   "source": [
    "# CNN for TF expects (batch, height, width, channels)\n",
    "# So we reshape the input tensors with a \"color\" channel of 1\n",
    "x_train = x_train.reshape(x_train.shape[0], \n",
    "                          x_train.shape[1], \n",
    "                          x_train.shape[2], \n",
    "                          1)\n",
    "x_val = x_val.reshape(x_val.shape[0], \n",
    "                      x_val.shape[1], \n",
    "                      x_val.shape[2], \n",
    "                      1)\n",
    "x_test = x_test.reshape(x_test.shape[0], \n",
    "                        x_test.shape[1], \n",
    "                        x_test.shape[2], \n",
    "                        1)\n",
    "print(x_train.shape)\n",
    "print(x_val.shape)\n",
    "print(x_test.shape)"
   ]
  },
  {
   "cell_type": "code",
   "execution_count": 109,
   "metadata": {},
   "outputs": [
    {
     "name": "stdout",
     "output_type": "stream",
     "text": [
      "(26, 96, 1)\n"
     ]
    }
   ],
   "source": [
    "# Input shape for CNN is size of MFCC of 1 sample\n",
    "sample_shape = x_test.shape[1:]\n",
    "print(sample_shape)"
   ]
  },
  {
   "cell_type": "code",
   "execution_count": 110,
   "metadata": {},
   "outputs": [],
   "source": [
    "# Build model\n",
    "# Based on: https://www.geeksforgeeks.org/python-image-classification-using-keras/\n",
    "model = models.Sequential()\n",
    "model.add(layers.Conv2D(32, \n",
    "                        (2, 2), \n",
    "                        activation='relu',\n",
    "                        input_shape=sample_shape))\n",
    "model.add(layers.MaxPooling2D(pool_size=(2, 2)))\n",
    "\n",
    "model.add(layers.Conv2D(32, (2, 2), activation='relu'))\n",
    "model.add(layers.MaxPooling2D(pool_size=(2, 2)))\n",
    "\n",
    "model.add(layers.Conv2D(64, (2, 2), activation='relu'))\n",
    "model.add(layers.MaxPooling2D(pool_size=(2, 2)))\n",
    "\n",
    "# Classifier\n",
    "model.add(layers.Flatten())\n",
    "model.add(layers.Dense(64, activation='relu'))\n",
    "model.add(layers.Dropout(0.5))\n",
    "model.add(layers.Dense(1, activation='sigmoid'))"
   ]
  },
  {
   "cell_type": "code",
   "execution_count": 111,
   "metadata": {},
   "outputs": [
    {
     "name": "stdout",
     "output_type": "stream",
     "text": [
      "Model: \"sequential_3\"\n",
      "_________________________________________________________________\n",
      " Layer (type)                Output Shape              Param #   \n",
      "=================================================================\n",
      " conv2d_9 (Conv2D)           (None, 25, 95, 32)        160       \n",
      "                                                                 \n",
      " max_pooling2d_9 (MaxPooling  (None, 12, 47, 32)       0         \n",
      " 2D)                                                             \n",
      "                                                                 \n",
      " conv2d_10 (Conv2D)          (None, 11, 46, 32)        4128      \n",
      "                                                                 \n",
      " max_pooling2d_10 (MaxPoolin  (None, 5, 23, 32)        0         \n",
      " g2D)                                                            \n",
      "                                                                 \n",
      " conv2d_11 (Conv2D)          (None, 4, 22, 64)         8256      \n",
      "                                                                 \n",
      " max_pooling2d_11 (MaxPoolin  (None, 2, 11, 64)        0         \n",
      " g2D)                                                            \n",
      "                                                                 \n",
      " flatten_3 (Flatten)         (None, 1408)              0         \n",
      "                                                                 \n",
      " dense_6 (Dense)             (None, 64)                90176     \n",
      "                                                                 \n",
      " dropout_3 (Dropout)         (None, 64)                0         \n",
      "                                                                 \n",
      " dense_7 (Dense)             (None, 1)                 65        \n",
      "                                                                 \n",
      "=================================================================\n",
      "Total params: 102,785\n",
      "Trainable params: 102,785\n",
      "Non-trainable params: 0\n",
      "_________________________________________________________________\n"
     ]
    }
   ],
   "source": [
    "# Display model\n",
    "model.summary()"
   ]
  },
  {
   "cell_type": "code",
   "execution_count": 112,
   "metadata": {},
   "outputs": [],
   "source": [
    "# Add training parameters to model\n",
    "model.compile(loss='binary_crossentropy', \n",
    "              optimizer='rmsprop', \n",
    "              metrics=['acc'])"
   ]
  },
  {
   "cell_type": "code",
   "execution_count": 113,
   "metadata": {},
   "outputs": [
    {
     "name": "stdout",
     "output_type": "stream",
     "text": [
      "Epoch 1/30\n",
      "1/1 [==============================] - ETA: 0s - loss: 1.2609 - acc: 0.0000e+00WARNING:tensorflow:5 out of the last 34 calls to <function Model.make_test_function.<locals>.test_function at 0x000002B35B35D160> triggered tf.function retracing. Tracing is expensive and the excessive number of tracings could be due to (1) creating @tf.function repeatedly in a loop, (2) passing tensors with different shapes, (3) passing Python objects instead of tensors. For (1), please define your @tf.function outside of the loop. For (2), @tf.function has experimental_relax_shapes=True option that relaxes argument shapes that can avoid unnecessary retracing. For (3), please refer to https://www.tensorflow.org/guide/function#controlling_retracing and https://www.tensorflow.org/api_docs/python/tf/function for  more details.\n",
      "1/1 [==============================] - 1s 620ms/step - loss: 1.2609 - acc: 0.0000e+00 - val_loss: 0.4256 - val_acc: 0.9474\n",
      "Epoch 2/30\n",
      "1/1 [==============================] - 0s 28ms/step - loss: 1.3612e-05 - acc: 1.0000 - val_loss: 0.6324 - val_acc: 0.9474\n",
      "Epoch 3/30\n",
      "1/1 [==============================] - 0s 28ms/step - loss: 4.8903e-09 - acc: 1.0000 - val_loss: 0.6341 - val_acc: 0.9474\n",
      "Epoch 4/30\n",
      "1/1 [==============================] - 0s 26ms/step - loss: 1.7634e-04 - acc: 1.0000 - val_loss: 0.7301 - val_acc: 0.9474\n",
      "Epoch 5/30\n",
      "1/1 [==============================] - 0s 27ms/step - loss: 1.0871e-04 - acc: 1.0000 - val_loss: 0.8217 - val_acc: 0.9474\n",
      "Epoch 6/30\n",
      "1/1 [==============================] - 0s 24ms/step - loss: 6.7622e-12 - acc: 1.0000 - val_loss: 0.8217 - val_acc: 0.9474\n",
      "Epoch 7/30\n",
      "1/1 [==============================] - 0s 23ms/step - loss: 1.2596e-08 - acc: 1.0000 - val_loss: 0.8237 - val_acc: 0.9474\n",
      "Epoch 8/30\n",
      "1/1 [==============================] - 0s 23ms/step - loss: 3.8220e-11 - acc: 1.0000 - val_loss: 0.8237 - val_acc: 0.9474\n",
      "Epoch 9/30\n",
      "1/1 [==============================] - 0s 26ms/step - loss: 1.2133e-08 - acc: 1.0000 - val_loss: 0.8238 - val_acc: 0.9474\n",
      "Epoch 10/30\n",
      "1/1 [==============================] - 0s 23ms/step - loss: 1.4009e-09 - acc: 1.0000 - val_loss: 0.8238 - val_acc: 0.9474\n",
      "Epoch 11/30\n",
      "1/1 [==============================] - 0s 23ms/step - loss: 4.1783e-07 - acc: 1.0000 - val_loss: 0.8442 - val_acc: 0.9474\n",
      "Epoch 12/30\n",
      "1/1 [==============================] - 0s 25ms/step - loss: 1.8144e-06 - acc: 1.0000 - val_loss: 0.8592 - val_acc: 0.9474\n",
      "Epoch 13/30\n",
      "1/1 [==============================] - 0s 24ms/step - loss: 6.2014e-09 - acc: 1.0000 - val_loss: 0.8592 - val_acc: 0.9474\n",
      "Epoch 14/30\n",
      "1/1 [==============================] - 0s 24ms/step - loss: 6.5236e-09 - acc: 1.0000 - val_loss: 0.8594 - val_acc: 0.9474\n",
      "Epoch 15/30\n",
      "1/1 [==============================] - 0s 9ms/step - loss: 3.9698e-06 - acc: 1.0000 - val_loss: 0.8689 - val_acc: 0.9474\n",
      "Epoch 16/30\n",
      "1/1 [==============================] - 0s 25ms/step - loss: 0.0025 - acc: 1.0000 - val_loss: 0.9171 - val_acc: 0.9474\n",
      "Epoch 17/30\n",
      "1/1 [==============================] - 0s 21ms/step - loss: 6.7806e-08 - acc: 1.0000 - val_loss: 0.9172 - val_acc: 0.9474\n",
      "Epoch 18/30\n",
      "1/1 [==============================] - ETA: 0s - loss: 5.3469e-10 - acc: 1.000 - 0s 29ms/step - loss: 5.3469e-10 - acc: 1.0000 - val_loss: 0.9172 - val_acc: 0.9474\n",
      "Epoch 19/30\n",
      "1/1 [==============================] - 0s 24ms/step - loss: 1.5322e-14 - acc: 1.0000 - val_loss: 0.9172 - val_acc: 0.9474\n",
      "Epoch 20/30\n",
      "1/1 [==============================] - 0s 10ms/step - loss: 5.1956e-10 - acc: 1.0000 - val_loss: 0.9172 - val_acc: 0.9474\n",
      "Epoch 21/30\n",
      "1/1 [==============================] - 0s 23ms/step - loss: 3.7059e-13 - acc: 1.0000 - val_loss: 0.9172 - val_acc: 0.9474\n",
      "Epoch 22/30\n",
      "1/1 [==============================] - 0s 22ms/step - loss: 2.4502e-07 - acc: 1.0000 - val_loss: 0.9182 - val_acc: 0.9474\n",
      "Epoch 23/30\n",
      "1/1 [==============================] - 0s 23ms/step - loss: 3.7782e-10 - acc: 1.0000 - val_loss: 0.9182 - val_acc: 0.9474\n",
      "Epoch 24/30\n",
      "1/1 [==============================] - 0s 24ms/step - loss: 1.8680e-11 - acc: 1.0000 - val_loss: 0.9182 - val_acc: 0.9474\n",
      "Epoch 25/30\n",
      "1/1 [==============================] - 0s 23ms/step - loss: 1.0347e-05 - acc: 1.0000 - val_loss: 0.9290 - val_acc: 0.9474\n",
      "Epoch 26/30\n",
      "1/1 [==============================] - 0s 21ms/step - loss: 4.6339e-09 - acc: 1.0000 - val_loss: 0.9291 - val_acc: 0.9474\n",
      "Epoch 27/30\n",
      "1/1 [==============================] - 0s 26ms/step - loss: 2.2365e-08 - acc: 1.0000 - val_loss: 0.9292 - val_acc: 0.9474\n",
      "Epoch 28/30\n",
      "1/1 [==============================] - 0s 23ms/step - loss: 1.3488e-09 - acc: 1.0000 - val_loss: 0.9292 - val_acc: 0.9474\n",
      "Epoch 29/30\n",
      "1/1 [==============================] - 0s 25ms/step - loss: 2.9456e-06 - acc: 1.0000 - val_loss: 0.9341 - val_acc: 0.9474\n",
      "Epoch 30/30\n",
      "1/1 [==============================] - 0s 23ms/step - loss: 4.4221e-07 - acc: 1.0000 - val_loss: 0.9350 - val_acc: 0.9474\n"
     ]
    }
   ],
   "source": [
    "# Train\n",
    "history = model.fit(x_train, \n",
    "                    y_train, \n",
    "                    epochs=30, \n",
    "                    batch_size=100, \n",
    "                    validation_data=(x_val, y_val))"
   ]
  },
  {
   "cell_type": "code",
   "execution_count": 114,
   "metadata": {},
   "outputs": [
    {
     "data": {
      "image/png": "[encoded data removed]",
      "text/plain": [
       "<Figure size 432x288 with 1 Axes>"
      ]
     },
     "metadata": {
      "needs_background": "light"
     },
     "output_type": "display_data"
    },
    {
     "data": {
      "image/png": "[encoded data removed]",
      "text/plain": [
       "<Figure size 432x288 with 1 Axes>"
      ]
     },
     "metadata": {
      "needs_background": "light"
     },
     "output_type": "display_data"
    }
   ],
   "source": [
    "# Plot results\n",
    "import matplotlib.pyplot as plt\n",
    "\n",
    "acc = history.history['acc']\n",
    "val_acc = history.history['val_acc']\n",
    "loss = history.history['loss']\n",
    "val_loss = history.history['val_loss']\n",
    "\n",
    "epochs = range(1, len(acc) + 1)\n",
    "\n",
    "plt.plot(epochs, acc, label='Training acc')\n",
    "plt.plot(epochs, val_acc, label='Validation acc')\n",
    "plt.title('Training and validation accuracy')\n",
    "plt.legend()\n",
    "\n",
    "plt.figure()\n",
    "\n",
    "plt.plot(epochs, loss, label='Training loss')\n",
    "plt.plot(epochs, val_loss, label='Validation loss')\n",
    "plt.title('Training and validation loss')\n",
    "plt.legend()\n",
    "\n",
    "plt.show()"
   ]
  },
  {
   "cell_type": "code",
   "execution_count": 115,
   "metadata": {},
   "outputs": [],
   "source": [
    "# Save the model as a file\n",
    "models.save_model(model, model_filename)"
   ]
  },
  {
   "cell_type": "code",
   "execution_count": 116,
   "metadata": {},
   "outputs": [
    {
     "name": "stdout",
     "output_type": "stream",
     "text": [
      "5\n",
      "15\n"
     ]
    }
   ],
   "source": [
    "# See which are 'stop'\n",
    "for idx, y in enumerate(y_test):\n",
    "    if y == 1:\n",
    "        print(idx)"
   ]
  },
  {
   "cell_type": "code",
   "execution_count": 117,
   "metadata": {},
   "outputs": [
    {
     "name": "stdout",
     "output_type": "stream",
     "text": [
      "[0. 0. 0. 0. 0. 1. 0. 0. 0. 0. 0. 0. 0. 0. 0. 1. 0. 0. 0.]\n",
      "19\n"
     ]
    }
   ],
   "source": [
    "print(y_test)\n",
    "print(len(y_test))"
   ]
  },
  {
   "cell_type": "code",
   "execution_count": 118,
   "metadata": {},
   "outputs": [
    {
     "name": "stdout",
     "output_type": "stream",
     "text": [
      "Answer: 0.0  Prediction: [[1.5758228e-06]]\n",
      "Answer: 0.0  Prediction: [[2.3591129e-08]]\n",
      "Answer: 0.0  Prediction: [[7.8474e-08]]\n",
      "Answer: 0.0  Prediction: [[1.8237342e-06]]\n",
      "Answer: 0.0  Prediction: [[2.7116737e-06]]\n",
      "Answer: 1.0  Prediction: [[5.7652e-09]]\n",
      "Answer: 0.0  Prediction: [[2.5575467e-08]]\n",
      "Answer: 0.0  Prediction: [[6.7540102e-09]]\n",
      "Answer: 0.0  Prediction: [[1.4094593e-08]]\n",
      "Answer: 0.0  Prediction: [[9.173137e-07]]\n",
      "Answer: 0.0  Prediction: [[6.8293633e-09]]\n",
      "Answer: 0.0  Prediction: [[3.534583e-09]]\n",
      "Answer: 0.0  Prediction: [[4.5853876e-06]]\n",
      "Answer: 0.0  Prediction: [[4.021215e-08]]\n",
      "Answer: 0.0  Prediction: [[4.8311746e-09]]\n",
      "Answer: 1.0  Prediction: [[1.6658138e-06]]\n",
      "Answer: 0.0  Prediction: [[1.7308496e-08]]\n",
      "Answer: 0.0  Prediction: [[2.3718023e-06]]\n",
      "Answer: 0.0  Prediction: [[8.1373756e-08]]\n"
     ]
    }
   ],
   "source": [
    "# TEST: Load model and run it against test set\n",
    "model = models.load_model(model_filename)\n",
    "for i in range(19):\n",
    "    print('Answer:', y_test[i], ' Prediction:', model.predict(np.expand_dims(x_test[i], 0)))"
   ]
  },
  {
   "cell_type": "code",
   "execution_count": 120,
   "metadata": {},
   "outputs": [
    {
     "name": "stdout",
     "output_type": "stream",
     "text": [
      "1/1 [==============================] - 0s 106ms/step - loss: 1.6988 - acc: 0.8947\n"
     ]
    },
    {
     "data": {
      "text/plain": [
       "[1.6987704038619995, 0.8947368264198303]"
      ]
     },
     "execution_count": 120,
     "metadata": {},
     "output_type": "execute_result"
    }
   ],
   "source": [
    "# Evaluate model with test set\n",
    "model.evaluate(x=x_test, y=y_test)"
   ]
  },
  {
   "cell_type": "code",
   "execution_count": null,
   "metadata": {},
   "outputs": [],
   "source": []
  }
 ],
 "metadata": {
  "kernelspec": {
   "display_name": "Python 3",
   "language": "python",
   "name": "python3"
  },
  "language_info": {
   "codemirror_mode": {
    "name": "ipython",
    "version": 3
   },
   "file_extension": ".py",
   "mimetype": "text/x-python",
   "name": "python",
   "nbconvert_exporter": "python",
   "pygments_lexer": "ipython3",
   "version": "3.8.10"
  }
 },
 "nbformat": 4,
 "nbformat_minor": 2
}
