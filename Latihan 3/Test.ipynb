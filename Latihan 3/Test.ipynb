{
 "cells": [
  {
   "cell_type": "code",
   "execution_count": 1,
   "metadata": {},
   "outputs": [],
   "source": [
    "import sounddevice as sd\n",
    "import numpy as np\n",
    "import scipy.signal\n",
    "import timeit\n",
    "import python_speech_features\n",
    "from tflite_runtime.interpreter import Interpreter"
   ]
  },
  {
   "cell_type": "code",
   "execution_count": 2,
   "metadata": {},
   "outputs": [],
   "source": [
    "# Parameters\n",
    "debug_time = 1\n",
    "debug_acc = 0\n",
    "# led_pin = 8\n",
    "word_threshold = 0.5\n",
    "rec_duration = 0.5\n",
    "window_stride = 0.5\n",
    "sample_rate = 48000\n",
    "resample_rate = 8000\n",
    "num_channels = 2\n",
    "num_mfcc = 96\n",
    "model_path = 'wake_word_stop_lite.tflite'"
   ]
  },
  {
   "cell_type": "code",
   "execution_count": 3,
   "metadata": {},
   "outputs": [],
   "source": [
    "# Sliding window\n",
    "window = np.zeros(int(rec_duration * resample_rate) * 2)"
   ]
  },
  {
   "cell_type": "code",
   "execution_count": 4,
   "metadata": {},
   "outputs": [],
   "source": [
    "interpreter = Interpreter(model_path)\n",
    "interpreter.allocate_tensors()\n",
    "input_details = interpreter.get_input_details()\n",
    "output_details = interpreter.get_output_details()\n",
    "print(input_details)\n",
    "# Decimate (filter and downsample)\n",
    "def decimate(signal, old_fs, new_fs):\n",
    "    \n",
    "    # Check to make sure we're downsampling\n",
    "    if new_fs > old_fs:\n",
    "        print(\"Error: target sample rate higher than original\")\n",
    "        return signal, old_fs\n",
    "    \n",
    "    # We can only downsample by an integer factor\n",
    "    dec_factor = old_fs / new_fs\n",
    "    if not dec_factor.is_integer():\n",
    "        print(\"Error: can only decimate by integer factor\")\n",
    "        return signal, old_fs\n",
    "\n",
    "    # Do decimation\n",
    "    resampled_signal = scipy.signal.decimate(signal, int(dec_factor))\n",
    "\n",
    "    return resampled_signal, new_fs\n",
    "# This gets called every 0.5 seconds\n",
    "def sd_callback(rec, frames, time, status):\n",
    "\n",
    "    # GPIO.output(led_pin, GPIO.LOW)\n",
    "\n",
    "    # Start timing for testing\n",
    "    start = timeit.default_timer()\n",
    "    \n",
    "    # Notify if errors\n",
    "    if status:\n",
    "        print('Error:', status)\n",
    "    \n",
    "    # Remove 2nd dimension from recording sample\n",
    "    rec = np.squeeze(rec)\n",
    "    \n",
    "    # Resample\n",
    "    rec, new_fs = decimate(rec, sample_rate, resample_rate)\n",
    "    \n",
    "    # Save recording onto sliding window\n",
    "    window[:len(window)//2] = window[len(window)//2:]\n",
    "    window[len(window)//2:] = rec\n",
    "\n",
    "    # Compute features\n",
    "    mfccs = python_speech_features.base.mfcc(window, \n",
    "                                        samplerate=new_fs,\n",
    "                                        winlen=0.256,\n",
    "                                        winstep=0.050,\n",
    "                                        numcep=num_mfcc,\n",
    "                                        nfilt=26,\n",
    "                                        nfft=2048,\n",
    "                                        preemph=0.0,\n",
    "                                        ceplifter=0,\n",
    "                                        appendEnergy=False,\n",
    "                                        winfunc=np.hanning)\n",
    "    mfccs = mfccs.transpose()\n",
    "\n",
    "    # Make prediction from model\n",
    "    in_tensor = np.float32(mfccs.reshape(1, mfccs.shape[0], mfccs.shape[1], 1))\n",
    "    interpreter.set_tensor(input_details[0]['index'], in_tensor)\n",
    "    interpreter.invoke()\n",
    "    output_data = interpreter.get_tensor(output_details[0]['index'])\n",
    "    val = output_data[0][0]\n",
    "    if val > word_threshold:\n",
    "        print('Tembak Kanan')\n",
    "        # GPIO.output(led_pin, GPIO.HIGH)\n",
    "\n",
    "    if debug_acc:\n",
    "        print(val)\n",
    "    \n",
    "    if debug_time:\n",
    "        print(timeit.default_timer() - start)\n",
    "# Start streaming from microphone\n",
    "with sd.InputStream(channels=num_channels,\n",
    "                    samplerate=sample_rate,\n",
    "                    blocksize=int(sample_rate * rec_duration),\n",
    "                    callback=sd_callback):\n",
    "    while True:\n",
    "        pass"
   ]
  },
  {
   "cell_type": "code",
   "execution_count": null,
   "metadata": {},
   "outputs": [],
   "source": []
  },
  {
   "cell_type": "code",
   "execution_count": null,
   "metadata": {},
   "outputs": [],
   "source": []
  }
 ],
 "metadata": {
  "interpreter": {
   "hash": "46971d6258fae1e211635d8bf7f60d4d01846c4e42537e37b5cbd719f8de335b"
  },
  "kernelspec": {
   "display_name": "Python 3.8.10 64-bit",
   "language": "python",
   "name": "python3"
  },
  "language_info": {
   "codemirror_mode": {
    "name": "ipython",
    "version": 3
   },
   "file_extension": ".py",
   "mimetype": "text/x-python",
   "name": "python",
   "nbconvert_exporter": "python",
   "pygments_lexer": "ipython3",
   "version": "3.8.10"
  },
  "orig_nbformat": 4
 },
 "nbformat": 4,
 "nbformat_minor": 2
}
