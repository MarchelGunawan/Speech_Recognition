{
 "cells": [
  {
   "cell_type": "code",
   "execution_count": 1,
   "id": "16e9600f",
   "metadata": {},
   "outputs": [],
   "source": [
    "import numpy as np\n",
    "from numpy.fft import fft\n",
    "import pydub\n",
    "import matplotlib.pyplot as plt\n",
    "from pathlib import Path\n",
    "import pandas as pd\n",
    "import bisect\n",
    "%matplotlib inline"
   ]
  },
  {
   "cell_type": "code",
   "execution_count": 2,
   "id": "8543b6ab",
   "metadata": {},
   "outputs": [],
   "source": [
    "song = Path('indonesia_baru(edited).ogg')\n",
    "a = pydub.AudioSegment.from_ogg(song)\n",
    "y = np.array(a.get_array_of_samples())"
   ]
  },
  {
   "cell_type": "code",
   "execution_count": 3,
   "id": "19314f62",
   "metadata": {},
   "outputs": [
    {
     "data": {
      "image/png": "[encoded data removed]",
      "text/plain": [
       "<Figure size 432x288 with 1 Axes>"
      ]
     },
     "metadata": {
      "needs_background": "light"
     },
     "output_type": "display_data"
    }
   ],
   "source": [
    "plt.plot(y)\n",
    "plt.show()"
   ]
  },
  {
   "cell_type": "code",
   "execution_count": 4,
   "id": "bf471a36",
   "metadata": {},
   "outputs": [
    {
     "data": {
      "image/png": "[encoded data removed]",
      "text/plain": [
       "<Figure size 432x288 with 1 Axes>"
      ]
     },
     "metadata": {
      "needs_background": "light"
     },
     "output_type": "display_data"
    }
   ],
   "source": [
    "yf = fft(y)\n",
    "plt.plot(np.abs(yf))\n",
    "plt.show()"
   ]
  },
  {
   "cell_type": "code",
   "execution_count": 8,
   "id": "739e6d17",
   "metadata": {},
   "outputs": [
    {
     "data": {
      "text/plain": [
       "963"
      ]
     },
     "execution_count": 8,
     "metadata": {},
     "output_type": "execute_result"
    }
   ],
   "source": [
    "f = []\n",
    "w = 255\n",
    "for i in range(round(len(y)/w)-1):\n",
    "    f.append(y[i*w:(i+1)*w-1])\n",
    "len(f)"
   ]
  },
  {
   "cell_type": "code",
   "execution_count": 9,
   "id": "bacc5bcc",
   "metadata": {},
   "outputs": [],
   "source": [
    "c=[]\n",
    "for i in range(len(f)):\n",
    "    for j in range(len(f)):\n",
    "        c.append(np.corrcoef(f[i],f[j]))"
   ]
  },
  {
   "cell_type": "code",
   "execution_count": 21,
   "id": "75456ad9",
   "metadata": {},
   "outputs": [],
   "source": [
    "data0 = []\n",
    "for i in range(len(c)):\n",
    "    if c[i][0][1] > 0 and c[i][0][1] < 0.1:\n",
    "        data0.append(i)"
   ]
  },
  {
   "cell_type": "code",
   "execution_count": 22,
   "id": "46d0f46d",
   "metadata": {},
   "outputs": [],
   "source": [
    "data1 = []\n",
    "for i in range(len(c)):\n",
    "    if c[i][0][1] > 0.101 and c[i][0][1] < 0.2:\n",
    "        data1.append(i)"
   ]
  },
  {
   "cell_type": "code",
   "execution_count": 23,
   "id": "fb072fab",
   "metadata": {},
   "outputs": [],
   "source": [
    "data2 = []\n",
    "for i in range(len(c)):\n",
    "    if c[i][0][1] > 0.201 and c[i][0][1] < 0.3:\n",
    "        data2.append(i)"
   ]
  },
  {
   "cell_type": "code",
   "execution_count": 24,
   "id": "a2a8e3e1",
   "metadata": {},
   "outputs": [],
   "source": [
    "data3 = []\n",
    "for i in range(len(c)):\n",
    "    if c[i][0][1] > 0.301 and c[i][0][1] < 0.4:\n",
    "        data3.append(i)"
   ]
  },
  {
   "cell_type": "code",
   "execution_count": 25,
   "id": "91a000d9",
   "metadata": {},
   "outputs": [],
   "source": [
    "data4 = []\n",
    "for i in range(len(c)):\n",
    "    if c[i][0][1] > 0.401 and c[i][0][1] < 0.5:\n",
    "        data4.append(i)"
   ]
  },
  {
   "cell_type": "code",
   "execution_count": 26,
   "id": "8cd594f5",
   "metadata": {},
   "outputs": [],
   "source": [
    "data5 = []\n",
    "for i in range(len(c)):\n",
    "    if c[i][0][1] > 0.501 and c[i][0][1] < 0.6:\n",
    "        data5.append(i)"
   ]
  },
  {
   "cell_type": "code",
   "execution_count": 27,
   "id": "756cb9a0",
   "metadata": {},
   "outputs": [],
   "source": [
    "data6 = []\n",
    "for i in range(len(c)):\n",
    "    if c[i][0][1] > 0.601 and c[i][0][1] < 0.7:\n",
    "        data6.append(i)"
   ]
  },
  {
   "cell_type": "code",
   "execution_count": 28,
   "id": "603fe9ab",
   "metadata": {},
   "outputs": [],
   "source": [
    "data7 = []\n",
    "for i in range(len(c)):\n",
    "    if c[i][0][1] > 0.701 and c[i][0][1] < 0.8:\n",
    "        data7.append(i)"
   ]
  },
  {
   "cell_type": "code",
   "execution_count": 29,
   "id": "49e27797",
   "metadata": {},
   "outputs": [],
   "source": [
    "data8 = []\n",
    "for i in range(len(c)):\n",
    "    if c[i][0][1] > 0.801 and c[i][0][1] < 0.9:\n",
    "        data8.append(i)"
   ]
  },
  {
   "cell_type": "code",
   "execution_count": 30,
   "id": "7eed8c67",
   "metadata": {},
   "outputs": [],
   "source": [
    "data9 = []\n",
    "for i in range(len(c)):\n",
    "    if c[i][0][1] > 0.901 and c[i][0][1] < 1:\n",
    "        data9.append(i)"
   ]
  },
  {
   "cell_type": "code",
   "execution_count": null,
   "id": "6ef96b5e",
   "metadata": {},
   "outputs": [],
   "source": [
    "data10 = []\n",
    "for i in range(len(c)):\n",
    "    if c[i][0][1] > -0.1 and c[i][0][1] < 0:\n",
    "        data10.append(i)"
   ]
  }
 ],
 "metadata": {
  "kernelspec": {
   "display_name": "Python 3 (ipykernel)",
   "language": "python",
   "name": "python3"
  },
  "language_info": {
   "codemirror_mode": {
    "name": "ipython",
    "version": 3
   },
   "file_extension": ".py",
   "mimetype": "text/x-python",
   "name": "python",
   "nbconvert_exporter": "python",
   "pygments_lexer": "ipython3",
   "version": "3.8.10"
  }
 },
 "nbformat": 4,
 "nbformat_minor": 5
}
